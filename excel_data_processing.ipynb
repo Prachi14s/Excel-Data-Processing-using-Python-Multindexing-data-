{
  "nbformat": 4,
  "nbformat_minor": 0,
  "metadata": {
    "colab": {
      "name": "power_internship.ipynb",
      "provenance": []
    },
    "kernelspec": {
      "name": "python3",
      "display_name": "Python 3"
    }
  },
  "cells": [
    {
      "cell_type": "code",
      "metadata": {
        "id": "G1UtUBFck2wY",
        "colab_type": "code",
        "colab": {}
      },
      "source": [
        "import pandas as pd\n",
        "import numpy as np"
      ],
      "execution_count": 0,
      "outputs": []
    },
    {
      "cell_type": "code",
      "metadata": {
        "id": "vbpYWj9Pa520",
        "colab_type": "code",
        "colab": {}
      },
      "source": [
        "excel_file1=\"/content/OVERALL_FUSEBOXES_REPORT_01 04 2020.xlsx\"\n",
        "fuse = pd.read_excel(excel_file1, merge_cells=False)"
      ],
      "execution_count": 0,
      "outputs": []
    },
    {
      "cell_type": "code",
      "metadata": {
        "id": "ruq-sJ8am-0S",
        "colab_type": "code",
        "colab": {}
      },
      "source": [
        "fuse1 = pd.read_excel(excel_file1, sheet_name=0, skiprows=2, header=[2,3])"
      ],
      "execution_count": 0,
      "outputs": []
    },
    {
      "cell_type": "code",
      "metadata": {
        "id": "pgEInckDaLqt",
        "colab_type": "code",
        "colab": {}
      },
      "source": [
        "excel_file2=(\"/content/OVERALL_INVERTERS_REPORT_01 04 2020.xlsx\")\n",
        "inv = pd.read_excel(excel_file2, merge_cells=False)"
      ],
      "execution_count": 0,
      "outputs": []
    },
    {
      "cell_type": "code",
      "metadata": {
        "id": "uqvph-pbgB5L",
        "colab_type": "code",
        "colab": {}
      },
      "source": [
        "inv1 = pd.read_excel(excel_file2, sheet_name=0, skiprows=2, header=[2,3])"
      ],
      "execution_count": 0,
      "outputs": []
    },
    {
      "cell_type": "code",
      "metadata": {
        "id": "1tEBNb1Ka3lp",
        "colab_type": "code",
        "outputId": "4b4bc1fb-a280-4dd7-890c-f5a27109c51e",
        "colab": {
          "base_uri": "https://localhost:8080/",
          "height": 1000
        }
      },
      "source": [
        "fuse1.columns"
      ],
      "execution_count": 342,
      "outputs": [
        {
          "output_type": "execute_result",
          "data": {
            "text/plain": [
              "MultiIndex([('Unnamed: 0_level_0',   'Unnamed: 0_level_1'),\n",
              "            (        'FUSE BOX 1',                  'CT1'),\n",
              "            (        'FUSE BOX 1',                  'CT2'),\n",
              "            (        'FUSE BOX 1',                  'CT3'),\n",
              "            (        'FUSE BOX 1',                  'CT4'),\n",
              "            (        'FUSE BOX 1',                  'CT5'),\n",
              "            (        'FUSE BOX 1',                  'CT6'),\n",
              "            (        'FUSE BOX 1',                  'CT7'),\n",
              "            (        'FUSE BOX 1',                  'CT8'),\n",
              "            (        'FUSE BOX 1',                  'CT9'),\n",
              "            (        'FUSE BOX 1',                 'CT10'),\n",
              "            (        'FUSE BOX 1',                 'CT11'),\n",
              "            (        'FUSE BOX 1',                 'CT12'),\n",
              "            (        'FUSE BOX 1',                 'CT13'),\n",
              "            (        'FUSE BOX 1',                 'CT14'),\n",
              "            (        'FUSE BOX 1', 'INTERNAL TEMPERATURE'),\n",
              "            (        'FUSE BOX 2',                  'CT1'),\n",
              "            (        'FUSE BOX 2',                  'CT2'),\n",
              "            (        'FUSE BOX 2',                  'CT3'),\n",
              "            (        'FUSE BOX 2',                  'CT4'),\n",
              "            (        'FUSE BOX 2',                  'CT5'),\n",
              "            (        'FUSE BOX 2',                  'CT6'),\n",
              "            (        'FUSE BOX 2',                  'CT7'),\n",
              "            (        'FUSE BOX 2',                  'CT8'),\n",
              "            (        'FUSE BOX 2',                  'CT9'),\n",
              "            (        'FUSE BOX 2',                 'CT10'),\n",
              "            (        'FUSE BOX 2',                 'CT11'),\n",
              "            (        'FUSE BOX 2',                 'CT12'),\n",
              "            (        'FUSE BOX 2',                 'CT13'),\n",
              "            (        'FUSE BOX 2',                 'CT14'),\n",
              "            (        'FUSE BOX 2', 'INTERNAL TEMPERATURE'),\n",
              "            (        'FUSE BOX 3',                  'CT1'),\n",
              "            (        'FUSE BOX 3',                  'CT2'),\n",
              "            (        'FUSE BOX 3',                  'CT3'),\n",
              "            (        'FUSE BOX 3',                  'CT4'),\n",
              "            (        'FUSE BOX 3',                  'CT5'),\n",
              "            (        'FUSE BOX 3',                  'CT6'),\n",
              "            (        'FUSE BOX 3',                  'CT7'),\n",
              "            (        'FUSE BOX 3',                  'CT8'),\n",
              "            (        'FUSE BOX 3',                  'CT9'),\n",
              "            (        'FUSE BOX 3',                 'CT10'),\n",
              "            (        'FUSE BOX 3',                 'CT11'),\n",
              "            (        'FUSE BOX 3',                 'CT12'),\n",
              "            (        'FUSE BOX 3',                 'CT13'),\n",
              "            (        'FUSE BOX 3',                 'CT14'),\n",
              "            (        'FUSE BOX 3', 'INTERNAL TEMPERATURE'),\n",
              "            (        'FUSE BOX 4',                  'CT1'),\n",
              "            (        'FUSE BOX 4',                  'CT2'),\n",
              "            (        'FUSE BOX 4',                  'CT3'),\n",
              "            (        'FUSE BOX 4',                  'CT4'),\n",
              "            (        'FUSE BOX 4',                  'CT5'),\n",
              "            (        'FUSE BOX 4',                  'CT6'),\n",
              "            (        'FUSE BOX 4',                  'CT7'),\n",
              "            (        'FUSE BOX 4',                  'CT8'),\n",
              "            (        'FUSE BOX 4',                  'CT9'),\n",
              "            (        'FUSE BOX 4',                 'CT10'),\n",
              "            (        'FUSE BOX 4',                 'CT11'),\n",
              "            (        'FUSE BOX 4',                 'CT12'),\n",
              "            (        'FUSE BOX 4',                 'CT13'),\n",
              "            (        'FUSE BOX 4',                 'CT14'),\n",
              "            (        'FUSE BOX 4', 'INTERNAL TEMPERATURE')],\n",
              "           )"
            ]
          },
          "metadata": {
            "tags": []
          },
          "execution_count": 342
        }
      ]
    },
    {
      "cell_type": "code",
      "metadata": {
        "id": "cudKgTpTs88l",
        "colab_type": "code",
        "outputId": "201439fd-987b-432d-e002-980e91944af2",
        "colab": {
          "base_uri": "https://localhost:8080/",
          "height": 374
        }
      },
      "source": [
        "fuse1.head()"
      ],
      "execution_count": 343,
      "outputs": [
        {
          "output_type": "execute_result",
          "data": {
            "text/html": [
              "<div>\n",
              "<style scoped>\n",
              "    .dataframe tbody tr th:only-of-type {\n",
              "        vertical-align: middle;\n",
              "    }\n",
              "\n",
              "    .dataframe tbody tr th {\n",
              "        vertical-align: top;\n",
              "    }\n",
              "\n",
              "    .dataframe thead tr th {\n",
              "        text-align: left;\n",
              "    }\n",
              "</style>\n",
              "<table border=\"1\" class=\"dataframe\">\n",
              "  <thead>\n",
              "    <tr>\n",
              "      <th></th>\n",
              "      <th>Unnamed: 0_level_0</th>\n",
              "      <th colspan=\"15\" halign=\"left\">FUSE BOX 1</th>\n",
              "      <th colspan=\"15\" halign=\"left\">FUSE BOX 2</th>\n",
              "      <th colspan=\"15\" halign=\"left\">FUSE BOX 3</th>\n",
              "      <th colspan=\"15\" halign=\"left\">FUSE BOX 4</th>\n",
              "    </tr>\n",
              "    <tr>\n",
              "      <th></th>\n",
              "      <th>Unnamed: 0_level_1</th>\n",
              "      <th>CT1</th>\n",
              "      <th>CT2</th>\n",
              "      <th>CT3</th>\n",
              "      <th>CT4</th>\n",
              "      <th>CT5</th>\n",
              "      <th>CT6</th>\n",
              "      <th>CT7</th>\n",
              "      <th>CT8</th>\n",
              "      <th>CT9</th>\n",
              "      <th>CT10</th>\n",
              "      <th>CT11</th>\n",
              "      <th>CT12</th>\n",
              "      <th>CT13</th>\n",
              "      <th>CT14</th>\n",
              "      <th>INTERNAL TEMPERATURE</th>\n",
              "      <th>CT1</th>\n",
              "      <th>CT2</th>\n",
              "      <th>CT3</th>\n",
              "      <th>CT4</th>\n",
              "      <th>CT5</th>\n",
              "      <th>CT6</th>\n",
              "      <th>CT7</th>\n",
              "      <th>CT8</th>\n",
              "      <th>CT9</th>\n",
              "      <th>CT10</th>\n",
              "      <th>CT11</th>\n",
              "      <th>CT12</th>\n",
              "      <th>CT13</th>\n",
              "      <th>CT14</th>\n",
              "      <th>INTERNAL TEMPERATURE</th>\n",
              "      <th>CT1</th>\n",
              "      <th>CT2</th>\n",
              "      <th>CT3</th>\n",
              "      <th>CT4</th>\n",
              "      <th>CT5</th>\n",
              "      <th>CT6</th>\n",
              "      <th>CT7</th>\n",
              "      <th>CT8</th>\n",
              "      <th>CT9</th>\n",
              "      <th>CT10</th>\n",
              "      <th>CT11</th>\n",
              "      <th>CT12</th>\n",
              "      <th>CT13</th>\n",
              "      <th>CT14</th>\n",
              "      <th>INTERNAL TEMPERATURE</th>\n",
              "      <th>CT1</th>\n",
              "      <th>CT2</th>\n",
              "      <th>CT3</th>\n",
              "      <th>CT4</th>\n",
              "      <th>CT5</th>\n",
              "      <th>CT6</th>\n",
              "      <th>CT7</th>\n",
              "      <th>CT8</th>\n",
              "      <th>CT9</th>\n",
              "      <th>CT10</th>\n",
              "      <th>CT11</th>\n",
              "      <th>CT12</th>\n",
              "      <th>CT13</th>\n",
              "      <th>CT14</th>\n",
              "      <th>INTERNAL TEMPERATURE</th>\n",
              "    </tr>\n",
              "  </thead>\n",
              "  <tbody>\n",
              "    <tr>\n",
              "      <th>0</th>\n",
              "      <td>2020-04-01 00:00:00.012</td>\n",
              "      <td>0.0</td>\n",
              "      <td>0.0</td>\n",
              "      <td>0.0</td>\n",
              "      <td>0.0</td>\n",
              "      <td>0.0</td>\n",
              "      <td>0.0</td>\n",
              "      <td>0.0</td>\n",
              "      <td>0.0</td>\n",
              "      <td>0.0</td>\n",
              "      <td>0.0</td>\n",
              "      <td>0.0</td>\n",
              "      <td>0.0</td>\n",
              "      <td>0</td>\n",
              "      <td>0</td>\n",
              "      <td>30.275087</td>\n",
              "      <td>0.0</td>\n",
              "      <td>0.0</td>\n",
              "      <td>0.0</td>\n",
              "      <td>0.0</td>\n",
              "      <td>0.0</td>\n",
              "      <td>0.0</td>\n",
              "      <td>0.0</td>\n",
              "      <td>0.0</td>\n",
              "      <td>0.0</td>\n",
              "      <td>0.0</td>\n",
              "      <td>0.0</td>\n",
              "      <td>0.0</td>\n",
              "      <td>0.0</td>\n",
              "      <td>0</td>\n",
              "      <td>30.188070</td>\n",
              "      <td>0.0</td>\n",
              "      <td>0.0</td>\n",
              "      <td>0.0</td>\n",
              "      <td>0.0</td>\n",
              "      <td>0.0</td>\n",
              "      <td>0.0</td>\n",
              "      <td>0.0</td>\n",
              "      <td>0.0</td>\n",
              "      <td>0.0</td>\n",
              "      <td>0.0</td>\n",
              "      <td>0.0</td>\n",
              "      <td>0.0</td>\n",
              "      <td>0</td>\n",
              "      <td>0</td>\n",
              "      <td>29.278463</td>\n",
              "      <td>0.0</td>\n",
              "      <td>0.0</td>\n",
              "      <td>0.0</td>\n",
              "      <td>0.0</td>\n",
              "      <td>0.0</td>\n",
              "      <td>0.0</td>\n",
              "      <td>0.0</td>\n",
              "      <td>0.0</td>\n",
              "      <td>0.0</td>\n",
              "      <td>0.0</td>\n",
              "      <td>0.0</td>\n",
              "      <td>0.0</td>\n",
              "      <td>0</td>\n",
              "      <td>0</td>\n",
              "      <td>29.452501</td>\n",
              "    </tr>\n",
              "    <tr>\n",
              "      <th>1</th>\n",
              "      <td>2020-04-01 00:01:00.015</td>\n",
              "      <td>0.0</td>\n",
              "      <td>0.0</td>\n",
              "      <td>0.0</td>\n",
              "      <td>0.0</td>\n",
              "      <td>0.0</td>\n",
              "      <td>0.0</td>\n",
              "      <td>0.0</td>\n",
              "      <td>0.0</td>\n",
              "      <td>0.0</td>\n",
              "      <td>0.0</td>\n",
              "      <td>0.0</td>\n",
              "      <td>0.0</td>\n",
              "      <td>0</td>\n",
              "      <td>0</td>\n",
              "      <td>30.273602</td>\n",
              "      <td>0.0</td>\n",
              "      <td>0.0</td>\n",
              "      <td>0.0</td>\n",
              "      <td>0.0</td>\n",
              "      <td>0.0</td>\n",
              "      <td>0.0</td>\n",
              "      <td>0.0</td>\n",
              "      <td>0.0</td>\n",
              "      <td>0.0</td>\n",
              "      <td>0.0</td>\n",
              "      <td>0.0</td>\n",
              "      <td>0.0</td>\n",
              "      <td>0.0</td>\n",
              "      <td>0</td>\n",
              "      <td>30.176170</td>\n",
              "      <td>0.0</td>\n",
              "      <td>0.0</td>\n",
              "      <td>0.0</td>\n",
              "      <td>0.0</td>\n",
              "      <td>0.0</td>\n",
              "      <td>0.0</td>\n",
              "      <td>0.0</td>\n",
              "      <td>0.0</td>\n",
              "      <td>0.0</td>\n",
              "      <td>0.0</td>\n",
              "      <td>0.0</td>\n",
              "      <td>0.0</td>\n",
              "      <td>0</td>\n",
              "      <td>0</td>\n",
              "      <td>29.256151</td>\n",
              "      <td>0.0</td>\n",
              "      <td>0.0</td>\n",
              "      <td>0.0</td>\n",
              "      <td>0.0</td>\n",
              "      <td>0.0</td>\n",
              "      <td>0.0</td>\n",
              "      <td>0.0</td>\n",
              "      <td>0.0</td>\n",
              "      <td>0.0</td>\n",
              "      <td>0.0</td>\n",
              "      <td>0.0</td>\n",
              "      <td>0.0</td>\n",
              "      <td>0</td>\n",
              "      <td>0</td>\n",
              "      <td>29.439114</td>\n",
              "    </tr>\n",
              "    <tr>\n",
              "      <th>2</th>\n",
              "      <td>2020-04-01 00:02:00.012</td>\n",
              "      <td>0.0</td>\n",
              "      <td>0.0</td>\n",
              "      <td>0.0</td>\n",
              "      <td>0.0</td>\n",
              "      <td>0.0</td>\n",
              "      <td>0.0</td>\n",
              "      <td>0.0</td>\n",
              "      <td>0.0</td>\n",
              "      <td>0.0</td>\n",
              "      <td>0.0</td>\n",
              "      <td>0.0</td>\n",
              "      <td>0.0</td>\n",
              "      <td>0</td>\n",
              "      <td>0</td>\n",
              "      <td>30.240875</td>\n",
              "      <td>0.0</td>\n",
              "      <td>0.0</td>\n",
              "      <td>0.0</td>\n",
              "      <td>0.0</td>\n",
              "      <td>0.0</td>\n",
              "      <td>0.0</td>\n",
              "      <td>0.0</td>\n",
              "      <td>0.0</td>\n",
              "      <td>0.0</td>\n",
              "      <td>0.0</td>\n",
              "      <td>0.0</td>\n",
              "      <td>0.0</td>\n",
              "      <td>0.0</td>\n",
              "      <td>0</td>\n",
              "      <td>30.132288</td>\n",
              "      <td>0.0</td>\n",
              "      <td>0.0</td>\n",
              "      <td>0.0</td>\n",
              "      <td>0.0</td>\n",
              "      <td>0.0</td>\n",
              "      <td>0.0</td>\n",
              "      <td>0.0</td>\n",
              "      <td>0.0</td>\n",
              "      <td>0.0</td>\n",
              "      <td>0.0</td>\n",
              "      <td>0.0</td>\n",
              "      <td>0.0</td>\n",
              "      <td>0</td>\n",
              "      <td>0</td>\n",
              "      <td>29.233095</td>\n",
              "      <td>0.0</td>\n",
              "      <td>0.0</td>\n",
              "      <td>0.0</td>\n",
              "      <td>0.0</td>\n",
              "      <td>0.0</td>\n",
              "      <td>0.0</td>\n",
              "      <td>0.0</td>\n",
              "      <td>0.0</td>\n",
              "      <td>0.0</td>\n",
              "      <td>0.0</td>\n",
              "      <td>0.0</td>\n",
              "      <td>0.0</td>\n",
              "      <td>0</td>\n",
              "      <td>0</td>\n",
              "      <td>29.417545</td>\n",
              "    </tr>\n",
              "    <tr>\n",
              "      <th>3</th>\n",
              "      <td>2020-04-01 00:03:00.014</td>\n",
              "      <td>0.0</td>\n",
              "      <td>0.0</td>\n",
              "      <td>0.0</td>\n",
              "      <td>0.0</td>\n",
              "      <td>0.0</td>\n",
              "      <td>0.0</td>\n",
              "      <td>0.0</td>\n",
              "      <td>0.0</td>\n",
              "      <td>0.0</td>\n",
              "      <td>0.0</td>\n",
              "      <td>0.0</td>\n",
              "      <td>0.0</td>\n",
              "      <td>0</td>\n",
              "      <td>0</td>\n",
              "      <td>30.234182</td>\n",
              "      <td>0.0</td>\n",
              "      <td>0.0</td>\n",
              "      <td>0.0</td>\n",
              "      <td>0.0</td>\n",
              "      <td>0.0</td>\n",
              "      <td>0.0</td>\n",
              "      <td>0.0</td>\n",
              "      <td>0.0</td>\n",
              "      <td>0.0</td>\n",
              "      <td>0.0</td>\n",
              "      <td>0.0</td>\n",
              "      <td>0.0</td>\n",
              "      <td>0.0</td>\n",
              "      <td>0</td>\n",
              "      <td>30.142700</td>\n",
              "      <td>0.0</td>\n",
              "      <td>0.0</td>\n",
              "      <td>0.0</td>\n",
              "      <td>0.0</td>\n",
              "      <td>0.0</td>\n",
              "      <td>0.0</td>\n",
              "      <td>0.0</td>\n",
              "      <td>0.0</td>\n",
              "      <td>0.0</td>\n",
              "      <td>0.0</td>\n",
              "      <td>0.0</td>\n",
              "      <td>0.0</td>\n",
              "      <td>0</td>\n",
              "      <td>0</td>\n",
              "      <td>29.216732</td>\n",
              "      <td>0.0</td>\n",
              "      <td>0.0</td>\n",
              "      <td>0.0</td>\n",
              "      <td>0.0</td>\n",
              "      <td>0.0</td>\n",
              "      <td>0.0</td>\n",
              "      <td>0.0</td>\n",
              "      <td>0.0</td>\n",
              "      <td>0.0</td>\n",
              "      <td>0.0</td>\n",
              "      <td>0.0</td>\n",
              "      <td>0.0</td>\n",
              "      <td>0</td>\n",
              "      <td>0</td>\n",
              "      <td>29.402670</td>\n",
              "    </tr>\n",
              "    <tr>\n",
              "      <th>4</th>\n",
              "      <td>2020-04-01 00:04:00.015</td>\n",
              "      <td>0.0</td>\n",
              "      <td>0.0</td>\n",
              "      <td>0.0</td>\n",
              "      <td>0.0</td>\n",
              "      <td>0.0</td>\n",
              "      <td>0.0</td>\n",
              "      <td>0.0</td>\n",
              "      <td>0.0</td>\n",
              "      <td>0.0</td>\n",
              "      <td>0.0</td>\n",
              "      <td>0.0</td>\n",
              "      <td>0.0</td>\n",
              "      <td>0</td>\n",
              "      <td>0</td>\n",
              "      <td>30.205919</td>\n",
              "      <td>0.0</td>\n",
              "      <td>0.0</td>\n",
              "      <td>0.0</td>\n",
              "      <td>0.0</td>\n",
              "      <td>0.0</td>\n",
              "      <td>0.0</td>\n",
              "      <td>0.0</td>\n",
              "      <td>0.0</td>\n",
              "      <td>0.0</td>\n",
              "      <td>0.0</td>\n",
              "      <td>0.0</td>\n",
              "      <td>0.0</td>\n",
              "      <td>0.0</td>\n",
              "      <td>0</td>\n",
              "      <td>30.081713</td>\n",
              "      <td>0.0</td>\n",
              "      <td>0.0</td>\n",
              "      <td>0.0</td>\n",
              "      <td>0.0</td>\n",
              "      <td>0.0</td>\n",
              "      <td>0.0</td>\n",
              "      <td>0.0</td>\n",
              "      <td>0.0</td>\n",
              "      <td>0.0</td>\n",
              "      <td>0.0</td>\n",
              "      <td>0.0</td>\n",
              "      <td>0.0</td>\n",
              "      <td>0</td>\n",
              "      <td>0</td>\n",
              "      <td>29.193676</td>\n",
              "      <td>0.0</td>\n",
              "      <td>0.0</td>\n",
              "      <td>0.0</td>\n",
              "      <td>0.0</td>\n",
              "      <td>0.0</td>\n",
              "      <td>0.0</td>\n",
              "      <td>0.0</td>\n",
              "      <td>0.0</td>\n",
              "      <td>0.0</td>\n",
              "      <td>0.0</td>\n",
              "      <td>0.0</td>\n",
              "      <td>0.0</td>\n",
              "      <td>0</td>\n",
              "      <td>0</td>\n",
              "      <td>29.387794</td>\n",
              "    </tr>\n",
              "  </tbody>\n",
              "</table>\n",
              "</div>"
            ],
            "text/plain": [
              "       Unnamed: 0_level_0 FUSE BOX 1       ... FUSE BOX 4                          \n",
              "       Unnamed: 0_level_1        CT1  CT2  ...       CT13 CT14 INTERNAL TEMPERATURE\n",
              "0 2020-04-01 00:00:00.012        0.0  0.0  ...          0    0            29.452501\n",
              "1 2020-04-01 00:01:00.015        0.0  0.0  ...          0    0            29.439114\n",
              "2 2020-04-01 00:02:00.012        0.0  0.0  ...          0    0            29.417545\n",
              "3 2020-04-01 00:03:00.014        0.0  0.0  ...          0    0            29.402670\n",
              "4 2020-04-01 00:04:00.015        0.0  0.0  ...          0    0            29.387794\n",
              "\n",
              "[5 rows x 61 columns]"
            ]
          },
          "metadata": {
            "tags": []
          },
          "execution_count": 343
        }
      ]
    },
    {
      "cell_type": "code",
      "metadata": {
        "id": "KkNunmSdvBMB",
        "colab_type": "code",
        "outputId": "0e32174a-35c2-443e-db78-f6297d6f5f5f",
        "colab": {
          "base_uri": "https://localhost:8080/",
          "height": 34
        }
      },
      "source": [
        "fuse1.index.nlevels  # levels in index"
      ],
      "execution_count": 344,
      "outputs": [
        {
          "output_type": "execute_result",
          "data": {
            "text/plain": [
              "1"
            ]
          },
          "metadata": {
            "tags": []
          },
          "execution_count": 344
        }
      ]
    },
    {
      "cell_type": "code",
      "metadata": {
        "id": "qIhoTccAzvfA",
        "colab_type": "code",
        "outputId": "c8f0eff7-18e2-4e9a-a4cc-76a841250527",
        "colab": {
          "base_uri": "https://localhost:8080/",
          "height": 34
        }
      },
      "source": [
        "fuse1.columns.nlevels  # levels in columns"
      ],
      "execution_count": 345,
      "outputs": [
        {
          "output_type": "execute_result",
          "data": {
            "text/plain": [
              "2"
            ]
          },
          "metadata": {
            "tags": []
          },
          "execution_count": 345
        }
      ]
    },
    {
      "cell_type": "code",
      "metadata": {
        "id": "yNm7xDGGzvbq",
        "colab_type": "code",
        "outputId": "f45a3b3d-9f3f-4074-f841-0f1f123ce6ff",
        "colab": {
          "base_uri": "https://localhost:8080/",
          "height": 34
        }
      },
      "source": [
        "fuse1.index = fuse1.index.get_level_values(0)\n",
        "fuse1.index"
      ],
      "execution_count": 346,
      "outputs": [
        {
          "output_type": "execute_result",
          "data": {
            "text/plain": [
              "RangeIndex(start=0, stop=1439, step=1)"
            ]
          },
          "metadata": {
            "tags": []
          },
          "execution_count": 346
        }
      ]
    },
    {
      "cell_type": "code",
      "metadata": {
        "id": "jBXWQoF2B1u3",
        "colab_type": "code",
        "colab": {}
      },
      "source": [
        "fuse1.index.name=\"sr.no.\""
      ],
      "execution_count": 0,
      "outputs": []
    },
    {
      "cell_type": "code",
      "metadata": {
        "id": "3h_e6gyQ5V6c",
        "colab_type": "code",
        "colab": {}
      },
      "source": [
        "date1=fuse1.xs('Unnamed: 0_level_1',axis=1, level=1, drop_level=False)"
      ],
      "execution_count": 0,
      "outputs": []
    },
    {
      "cell_type": "code",
      "metadata": {
        "id": "RnwHrvQeBPO_",
        "colab_type": "code",
        "outputId": "ee4b06bf-b729-4896-b6ca-a5137bc4532f",
        "colab": {
          "base_uri": "https://localhost:8080/",
          "height": 481
        }
      },
      "source": [
        "date1"
      ],
      "execution_count": 349,
      "outputs": [
        {
          "output_type": "execute_result",
          "data": {
            "text/html": [
              "<div>\n",
              "<style scoped>\n",
              "    .dataframe tbody tr th:only-of-type {\n",
              "        vertical-align: middle;\n",
              "    }\n",
              "\n",
              "    .dataframe tbody tr th {\n",
              "        vertical-align: top;\n",
              "    }\n",
              "\n",
              "    .dataframe thead tr th {\n",
              "        text-align: left;\n",
              "    }\n",
              "\n",
              "    .dataframe thead tr:last-of-type th {\n",
              "        text-align: right;\n",
              "    }\n",
              "</style>\n",
              "<table border=\"1\" class=\"dataframe\">\n",
              "  <thead>\n",
              "    <tr>\n",
              "      <th></th>\n",
              "      <th>Unnamed: 0_level_0</th>\n",
              "    </tr>\n",
              "    <tr>\n",
              "      <th></th>\n",
              "      <th>Unnamed: 0_level_1</th>\n",
              "    </tr>\n",
              "    <tr>\n",
              "      <th>sr.no.</th>\n",
              "      <th></th>\n",
              "    </tr>\n",
              "  </thead>\n",
              "  <tbody>\n",
              "    <tr>\n",
              "      <th>0</th>\n",
              "      <td>2020-04-01 00:00:00.012</td>\n",
              "    </tr>\n",
              "    <tr>\n",
              "      <th>1</th>\n",
              "      <td>2020-04-01 00:01:00.015</td>\n",
              "    </tr>\n",
              "    <tr>\n",
              "      <th>2</th>\n",
              "      <td>2020-04-01 00:02:00.012</td>\n",
              "    </tr>\n",
              "    <tr>\n",
              "      <th>3</th>\n",
              "      <td>2020-04-01 00:03:00.014</td>\n",
              "    </tr>\n",
              "    <tr>\n",
              "      <th>4</th>\n",
              "      <td>2020-04-01 00:04:00.015</td>\n",
              "    </tr>\n",
              "    <tr>\n",
              "      <th>...</th>\n",
              "      <td>...</td>\n",
              "    </tr>\n",
              "    <tr>\n",
              "      <th>1434</th>\n",
              "      <td>2020-04-01 23:54:00.015</td>\n",
              "    </tr>\n",
              "    <tr>\n",
              "      <th>1435</th>\n",
              "      <td>2020-04-01 23:55:00.015</td>\n",
              "    </tr>\n",
              "    <tr>\n",
              "      <th>1436</th>\n",
              "      <td>2020-04-01 23:56:00.013</td>\n",
              "    </tr>\n",
              "    <tr>\n",
              "      <th>1437</th>\n",
              "      <td>2020-04-01 23:57:00.012</td>\n",
              "    </tr>\n",
              "    <tr>\n",
              "      <th>1438</th>\n",
              "      <td>2020-04-01 23:58:00.013</td>\n",
              "    </tr>\n",
              "  </tbody>\n",
              "</table>\n",
              "<p>1439 rows × 1 columns</p>\n",
              "</div>"
            ],
            "text/plain": [
              "            Unnamed: 0_level_0\n",
              "            Unnamed: 0_level_1\n",
              "sr.no.                        \n",
              "0      2020-04-01 00:00:00.012\n",
              "1      2020-04-01 00:01:00.015\n",
              "2      2020-04-01 00:02:00.012\n",
              "3      2020-04-01 00:03:00.014\n",
              "4      2020-04-01 00:04:00.015\n",
              "...                        ...\n",
              "1434   2020-04-01 23:54:00.015\n",
              "1435   2020-04-01 23:55:00.015\n",
              "1436   2020-04-01 23:56:00.013\n",
              "1437   2020-04-01 23:57:00.012\n",
              "1438   2020-04-01 23:58:00.013\n",
              "\n",
              "[1439 rows x 1 columns]"
            ]
          },
          "metadata": {
            "tags": []
          },
          "execution_count": 349
        }
      ]
    },
    {
      "cell_type": "code",
      "metadata": {
        "id": "1slbJNlq5V1V",
        "colab_type": "code",
        "colab": {}
      },
      "source": [
        ""
      ],
      "execution_count": 0,
      "outputs": []
    },
    {
      "cell_type": "code",
      "metadata": {
        "id": "58VXf8dLtQCL",
        "colab_type": "code",
        "colab": {}
      },
      "source": [
        "data1=fuse1.xs('INTERNAL TEMPERATURE',axis=1, level=1, drop_level=False)"
      ],
      "execution_count": 0,
      "outputs": []
    },
    {
      "cell_type": "code",
      "metadata": {
        "id": "C_H1EOnLj16w",
        "colab_type": "code",
        "outputId": "cf5852ec-35d2-4dc1-beb2-d22c156f99f2",
        "colab": {
          "base_uri": "https://localhost:8080/",
          "height": 34
        }
      },
      "source": [
        "data1.shape"
      ],
      "execution_count": 351,
      "outputs": [
        {
          "output_type": "execute_result",
          "data": {
            "text/plain": [
              "(1439, 4)"
            ]
          },
          "metadata": {
            "tags": []
          },
          "execution_count": 351
        }
      ]
    },
    {
      "cell_type": "code",
      "metadata": {
        "id": "dDSVua-Oj1_4",
        "colab_type": "code",
        "outputId": "4000aac3-2587-4537-b6cf-ea28074c55e7",
        "colab": {
          "base_uri": "https://localhost:8080/",
          "height": 481
        }
      },
      "source": [
        "data1"
      ],
      "execution_count": 352,
      "outputs": [
        {
          "output_type": "execute_result",
          "data": {
            "text/html": [
              "<div>\n",
              "<style scoped>\n",
              "    .dataframe tbody tr th:only-of-type {\n",
              "        vertical-align: middle;\n",
              "    }\n",
              "\n",
              "    .dataframe tbody tr th {\n",
              "        vertical-align: top;\n",
              "    }\n",
              "\n",
              "    .dataframe thead tr th {\n",
              "        text-align: left;\n",
              "    }\n",
              "\n",
              "    .dataframe thead tr:last-of-type th {\n",
              "        text-align: right;\n",
              "    }\n",
              "</style>\n",
              "<table border=\"1\" class=\"dataframe\">\n",
              "  <thead>\n",
              "    <tr>\n",
              "      <th></th>\n",
              "      <th>FUSE BOX 1</th>\n",
              "      <th>FUSE BOX 2</th>\n",
              "      <th>FUSE BOX 3</th>\n",
              "      <th>FUSE BOX 4</th>\n",
              "    </tr>\n",
              "    <tr>\n",
              "      <th></th>\n",
              "      <th>INTERNAL TEMPERATURE</th>\n",
              "      <th>INTERNAL TEMPERATURE</th>\n",
              "      <th>INTERNAL TEMPERATURE</th>\n",
              "      <th>INTERNAL TEMPERATURE</th>\n",
              "    </tr>\n",
              "    <tr>\n",
              "      <th>sr.no.</th>\n",
              "      <th></th>\n",
              "      <th></th>\n",
              "      <th></th>\n",
              "      <th></th>\n",
              "    </tr>\n",
              "  </thead>\n",
              "  <tbody>\n",
              "    <tr>\n",
              "      <th>0</th>\n",
              "      <td>30.275087</td>\n",
              "      <td>30.188070</td>\n",
              "      <td>29.278463</td>\n",
              "      <td>29.452501</td>\n",
              "    </tr>\n",
              "    <tr>\n",
              "      <th>1</th>\n",
              "      <td>30.273602</td>\n",
              "      <td>30.176170</td>\n",
              "      <td>29.256151</td>\n",
              "      <td>29.439114</td>\n",
              "    </tr>\n",
              "    <tr>\n",
              "      <th>2</th>\n",
              "      <td>30.240875</td>\n",
              "      <td>30.132288</td>\n",
              "      <td>29.233095</td>\n",
              "      <td>29.417545</td>\n",
              "    </tr>\n",
              "    <tr>\n",
              "      <th>3</th>\n",
              "      <td>30.234182</td>\n",
              "      <td>30.142700</td>\n",
              "      <td>29.216732</td>\n",
              "      <td>29.402670</td>\n",
              "    </tr>\n",
              "    <tr>\n",
              "      <th>4</th>\n",
              "      <td>30.205919</td>\n",
              "      <td>30.081713</td>\n",
              "      <td>29.193676</td>\n",
              "      <td>29.387794</td>\n",
              "    </tr>\n",
              "    <tr>\n",
              "      <th>...</th>\n",
              "      <td>...</td>\n",
              "      <td>...</td>\n",
              "      <td>...</td>\n",
              "      <td>...</td>\n",
              "    </tr>\n",
              "    <tr>\n",
              "      <th>1434</th>\n",
              "      <td>29.519438</td>\n",
              "      <td>29.348375</td>\n",
              "      <td>28.536945</td>\n",
              "      <td>28.814363</td>\n",
              "    </tr>\n",
              "    <tr>\n",
              "      <th>1435</th>\n",
              "      <td>29.491177</td>\n",
              "      <td>29.338707</td>\n",
              "      <td>28.516119</td>\n",
              "      <td>28.787588</td>\n",
              "    </tr>\n",
              "    <tr>\n",
              "      <th>1436</th>\n",
              "      <td>29.478533</td>\n",
              "      <td>29.316395</td>\n",
              "      <td>28.508682</td>\n",
              "      <td>28.789820</td>\n",
              "    </tr>\n",
              "    <tr>\n",
              "      <th>1437</th>\n",
              "      <td>29.462170</td>\n",
              "      <td>29.309700</td>\n",
              "      <td>28.482651</td>\n",
              "      <td>28.769737</td>\n",
              "    </tr>\n",
              "    <tr>\n",
              "      <th>1438</th>\n",
              "      <td>29.436882</td>\n",
              "      <td>29.297800</td>\n",
              "      <td>28.463314</td>\n",
              "      <td>28.761557</td>\n",
              "    </tr>\n",
              "  </tbody>\n",
              "</table>\n",
              "<p>1439 rows × 4 columns</p>\n",
              "</div>"
            ],
            "text/plain": [
              "                 FUSE BOX 1  ...           FUSE BOX 4\n",
              "       INTERNAL TEMPERATURE  ... INTERNAL TEMPERATURE\n",
              "sr.no.                       ...                     \n",
              "0                 30.275087  ...            29.452501\n",
              "1                 30.273602  ...            29.439114\n",
              "2                 30.240875  ...            29.417545\n",
              "3                 30.234182  ...            29.402670\n",
              "4                 30.205919  ...            29.387794\n",
              "...                     ...  ...                  ...\n",
              "1434              29.519438  ...            28.814363\n",
              "1435              29.491177  ...            28.787588\n",
              "1436              29.478533  ...            28.789820\n",
              "1437              29.462170  ...            28.769737\n",
              "1438              29.436882  ...            28.761557\n",
              "\n",
              "[1439 rows x 4 columns]"
            ]
          },
          "metadata": {
            "tags": []
          },
          "execution_count": 352
        }
      ]
    },
    {
      "cell_type": "code",
      "metadata": {
        "id": "FhCiyHgs4OrO",
        "colab_type": "code",
        "colab": {}
      },
      "source": [
        "fuse_data=date1.join(data1)"
      ],
      "execution_count": 0,
      "outputs": []
    },
    {
      "cell_type": "code",
      "metadata": {
        "id": "WMnAM9TNEH6z",
        "colab_type": "code",
        "outputId": "168cdcb2-b829-4059-db7d-7469f3b8896c",
        "colab": {
          "base_uri": "https://localhost:8080/",
          "height": 119
        }
      },
      "source": [
        "fuse_data.columns"
      ],
      "execution_count": 354,
      "outputs": [
        {
          "output_type": "execute_result",
          "data": {
            "text/plain": [
              "MultiIndex([('Unnamed: 0_level_0',   'Unnamed: 0_level_1'),\n",
              "            (        'FUSE BOX 1', 'INTERNAL TEMPERATURE'),\n",
              "            (        'FUSE BOX 2', 'INTERNAL TEMPERATURE'),\n",
              "            (        'FUSE BOX 3', 'INTERNAL TEMPERATURE'),\n",
              "            (        'FUSE BOX 4', 'INTERNAL TEMPERATURE')],\n",
              "           )"
            ]
          },
          "metadata": {
            "tags": []
          },
          "execution_count": 354
        }
      ]
    },
    {
      "cell_type": "code",
      "metadata": {
        "id": "Tadxs3ZGEM4X",
        "colab_type": "code",
        "outputId": "71787bbc-865c-48ac-80ac-f59879112ef0",
        "colab": {
          "base_uri": "https://localhost:8080/",
          "height": 34
        }
      },
      "source": [
        "fuse_data.shape"
      ],
      "execution_count": 355,
      "outputs": [
        {
          "output_type": "execute_result",
          "data": {
            "text/plain": [
              "(1439, 5)"
            ]
          },
          "metadata": {
            "tags": []
          },
          "execution_count": 355
        }
      ]
    },
    {
      "cell_type": "code",
      "metadata": {
        "id": "w8MD2IztFFrK",
        "colab_type": "code",
        "outputId": "e0cce630-d93c-478d-a282-f92237846cba",
        "colab": {
          "base_uri": "https://localhost:8080/",
          "height": 266
        }
      },
      "source": [
        "fuse_data.head()"
      ],
      "execution_count": 356,
      "outputs": [
        {
          "output_type": "execute_result",
          "data": {
            "text/html": [
              "<div>\n",
              "<style scoped>\n",
              "    .dataframe tbody tr th:only-of-type {\n",
              "        vertical-align: middle;\n",
              "    }\n",
              "\n",
              "    .dataframe tbody tr th {\n",
              "        vertical-align: top;\n",
              "    }\n",
              "\n",
              "    .dataframe thead tr th {\n",
              "        text-align: left;\n",
              "    }\n",
              "\n",
              "    .dataframe thead tr:last-of-type th {\n",
              "        text-align: right;\n",
              "    }\n",
              "</style>\n",
              "<table border=\"1\" class=\"dataframe\">\n",
              "  <thead>\n",
              "    <tr>\n",
              "      <th></th>\n",
              "      <th>Unnamed: 0_level_0</th>\n",
              "      <th>FUSE BOX 1</th>\n",
              "      <th>FUSE BOX 2</th>\n",
              "      <th>FUSE BOX 3</th>\n",
              "      <th>FUSE BOX 4</th>\n",
              "    </tr>\n",
              "    <tr>\n",
              "      <th></th>\n",
              "      <th>Unnamed: 0_level_1</th>\n",
              "      <th>INTERNAL TEMPERATURE</th>\n",
              "      <th>INTERNAL TEMPERATURE</th>\n",
              "      <th>INTERNAL TEMPERATURE</th>\n",
              "      <th>INTERNAL TEMPERATURE</th>\n",
              "    </tr>\n",
              "    <tr>\n",
              "      <th>sr.no.</th>\n",
              "      <th></th>\n",
              "      <th></th>\n",
              "      <th></th>\n",
              "      <th></th>\n",
              "      <th></th>\n",
              "    </tr>\n",
              "  </thead>\n",
              "  <tbody>\n",
              "    <tr>\n",
              "      <th>0</th>\n",
              "      <td>2020-04-01 00:00:00.012</td>\n",
              "      <td>30.275087</td>\n",
              "      <td>30.188070</td>\n",
              "      <td>29.278463</td>\n",
              "      <td>29.452501</td>\n",
              "    </tr>\n",
              "    <tr>\n",
              "      <th>1</th>\n",
              "      <td>2020-04-01 00:01:00.015</td>\n",
              "      <td>30.273602</td>\n",
              "      <td>30.176170</td>\n",
              "      <td>29.256151</td>\n",
              "      <td>29.439114</td>\n",
              "    </tr>\n",
              "    <tr>\n",
              "      <th>2</th>\n",
              "      <td>2020-04-01 00:02:00.012</td>\n",
              "      <td>30.240875</td>\n",
              "      <td>30.132288</td>\n",
              "      <td>29.233095</td>\n",
              "      <td>29.417545</td>\n",
              "    </tr>\n",
              "    <tr>\n",
              "      <th>3</th>\n",
              "      <td>2020-04-01 00:03:00.014</td>\n",
              "      <td>30.234182</td>\n",
              "      <td>30.142700</td>\n",
              "      <td>29.216732</td>\n",
              "      <td>29.402670</td>\n",
              "    </tr>\n",
              "    <tr>\n",
              "      <th>4</th>\n",
              "      <td>2020-04-01 00:04:00.015</td>\n",
              "      <td>30.205919</td>\n",
              "      <td>30.081713</td>\n",
              "      <td>29.193676</td>\n",
              "      <td>29.387794</td>\n",
              "    </tr>\n",
              "  </tbody>\n",
              "</table>\n",
              "</div>"
            ],
            "text/plain": [
              "            Unnamed: 0_level_0  ...           FUSE BOX 4\n",
              "            Unnamed: 0_level_1  ... INTERNAL TEMPERATURE\n",
              "sr.no.                          ...                     \n",
              "0      2020-04-01 00:00:00.012  ...            29.452501\n",
              "1      2020-04-01 00:01:00.015  ...            29.439114\n",
              "2      2020-04-01 00:02:00.012  ...            29.417545\n",
              "3      2020-04-01 00:03:00.014  ...            29.402670\n",
              "4      2020-04-01 00:04:00.015  ...            29.387794\n",
              "\n",
              "[5 rows x 5 columns]"
            ]
          },
          "metadata": {
            "tags": []
          },
          "execution_count": 356
        }
      ]
    },
    {
      "cell_type": "code",
      "metadata": {
        "id": "nzlATtoqj2NG",
        "colab_type": "code",
        "outputId": "6664ea9b-95b3-4f2d-ca52-97486ae46529",
        "colab": {
          "base_uri": "https://localhost:8080/",
          "height": 935
        }
      },
      "source": [
        "inv1.columns"
      ],
      "execution_count": 357,
      "outputs": [
        {
          "output_type": "execute_result",
          "data": {
            "text/plain": [
              "MultiIndex([('Unnamed: 0_level_0',            'Unnamed: 0_level_1'),\n",
              "            (        'INVERTER 1',          'AC POWER (KW) Actual'),\n",
              "            (        'INVERTER 1',        'REACTIVE POWER (KVAR) '),\n",
              "            (        'INVERTER 1',           'LINE VOLTAGE Vry(V)'),\n",
              "            (        'INVERTER 1',           'LINE VOLTAGE Vyb(V)'),\n",
              "            (        'INVERTER 1',           'LINE VOLTAGE Vbr(V)'),\n",
              "            (        'INVERTER 1',            'LINE CURRENT Ir(A)'),\n",
              "            (        'INVERTER 1',            'LINE CURRENT Iy(A)'),\n",
              "            (        'INVERTER 1',            'LINE CURRENT Ib(A)'),\n",
              "            (        'INVERTER 1',                 'FREQUENCY(Hz)'),\n",
              "            (        'INVERTER 1',                 'DC VOLTAGE(V)'),\n",
              "            (        'INVERTER 1',                 'DC CURRENT(A)'),\n",
              "            (        'INVERTER 1',          'DC POWER (KW) Actual'),\n",
              "            (        'INVERTER 1', 'AC ENERGY OUTPUT (kWH) Actual'),\n",
              "            (        'INVERTER 2',          'AC POWER (KW) Actual'),\n",
              "            (        'INVERTER 2',        'REACTIVE POWER (KVAR) '),\n",
              "            (        'INVERTER 2',           'LINE VOLTAGE Vry(V)'),\n",
              "            (        'INVERTER 2',           'LINE VOLTAGE Vyb(V)'),\n",
              "            (        'INVERTER 2',           'LINE VOLTAGE Vbr(V)'),\n",
              "            (        'INVERTER 2',            'LINE CURRENT Ir(A)'),\n",
              "            (        'INVERTER 2',            'LINE CURRENT Iy(A)'),\n",
              "            (        'INVERTER 2',            'LINE CURRENT Ib(A)'),\n",
              "            (        'INVERTER 2',                 'FREQUENCY(Hz)'),\n",
              "            (        'INVERTER 2',                 'DC VOLTAGE(V)'),\n",
              "            (        'INVERTER 2',                 'DC CURRENT(A)'),\n",
              "            (        'INVERTER 2',          'DC POWER (KW) Actual'),\n",
              "            (        'INVERTER 2', 'AC ENERGY OUTPUT (kWH) Actual'),\n",
              "            (        'INVERTER 3',          'AC POWER (KW) Actual'),\n",
              "            (        'INVERTER 3',        'REACTIVE POWER (KVAR) '),\n",
              "            (        'INVERTER 3',           'LINE VOLTAGE Vry(V)'),\n",
              "            (        'INVERTER 3',           'LINE VOLTAGE Vyb(V)'),\n",
              "            (        'INVERTER 3',           'LINE VOLTAGE Vbr(V)'),\n",
              "            (        'INVERTER 3',            'LINE CURRENT Ir(A)'),\n",
              "            (        'INVERTER 3',            'LINE CURRENT Iy(A)'),\n",
              "            (        'INVERTER 3',            'LINE CURRENT Ib(A)'),\n",
              "            (        'INVERTER 3',                 'FREQUENCY(Hz)'),\n",
              "            (        'INVERTER 3',                 'DC VOLTAGE(V)'),\n",
              "            (        'INVERTER 3',                 'DC CURRENT(A)'),\n",
              "            (        'INVERTER 3',          'DC POWER (KW) Actual'),\n",
              "            (        'INVERTER 3', 'AC ENERGY OUTPUT (kWH) Actual'),\n",
              "            (        'INVERTER 4',          'AC POWER (KW) Actual'),\n",
              "            (        'INVERTER 4',        'REACTIVE POWER (KVAR) '),\n",
              "            (        'INVERTER 4',           'LINE VOLTAGE Vry(V)'),\n",
              "            (        'INVERTER 4',           'LINE VOLTAGE Vyb(V)'),\n",
              "            (        'INVERTER 4',           'LINE VOLTAGE Vbr(V)'),\n",
              "            (        'INVERTER 4',            'LINE CURRENT Ir(A)'),\n",
              "            (        'INVERTER 4',            'LINE CURRENT Iy(A)'),\n",
              "            (        'INVERTER 4',            'LINE CURRENT Ib(A)'),\n",
              "            (        'INVERTER 4',                 'FREQUENCY(Hz)'),\n",
              "            (        'INVERTER 4',                 'DC VOLTAGE(V)'),\n",
              "            (        'INVERTER 4',                 'DC CURRENT(A)'),\n",
              "            (        'INVERTER 4',          'DC POWER (KW) Actual'),\n",
              "            (        'INVERTER 4', 'AC ENERGY OUTPUT (kWH) Actual')],\n",
              "           )"
            ]
          },
          "metadata": {
            "tags": []
          },
          "execution_count": 357
        }
      ]
    },
    {
      "cell_type": "code",
      "metadata": {
        "id": "behoQzAZj2I9",
        "colab_type": "code",
        "outputId": "9a6dbf71-bebe-479b-80ef-a081f7b565cc",
        "colab": {
          "base_uri": "https://localhost:8080/",
          "height": 425
        }
      },
      "source": [
        "inv1.head()"
      ],
      "execution_count": 358,
      "outputs": [
        {
          "output_type": "execute_result",
          "data": {
            "text/html": [
              "<div>\n",
              "<style scoped>\n",
              "    .dataframe tbody tr th:only-of-type {\n",
              "        vertical-align: middle;\n",
              "    }\n",
              "\n",
              "    .dataframe tbody tr th {\n",
              "        vertical-align: top;\n",
              "    }\n",
              "\n",
              "    .dataframe thead tr th {\n",
              "        text-align: left;\n",
              "    }\n",
              "</style>\n",
              "<table border=\"1\" class=\"dataframe\">\n",
              "  <thead>\n",
              "    <tr>\n",
              "      <th></th>\n",
              "      <th>Unnamed: 0_level_0</th>\n",
              "      <th colspan=\"13\" halign=\"left\">INVERTER 1</th>\n",
              "      <th colspan=\"13\" halign=\"left\">INVERTER 2</th>\n",
              "      <th colspan=\"13\" halign=\"left\">INVERTER 3</th>\n",
              "      <th colspan=\"13\" halign=\"left\">INVERTER 4</th>\n",
              "    </tr>\n",
              "    <tr>\n",
              "      <th></th>\n",
              "      <th>Unnamed: 0_level_1</th>\n",
              "      <th>AC POWER (KW) Actual</th>\n",
              "      <th>REACTIVE POWER (KVAR)</th>\n",
              "      <th>LINE VOLTAGE Vry(V)</th>\n",
              "      <th>LINE VOLTAGE Vyb(V)</th>\n",
              "      <th>LINE VOLTAGE Vbr(V)</th>\n",
              "      <th>LINE CURRENT Ir(A)</th>\n",
              "      <th>LINE CURRENT Iy(A)</th>\n",
              "      <th>LINE CURRENT Ib(A)</th>\n",
              "      <th>FREQUENCY(Hz)</th>\n",
              "      <th>DC VOLTAGE(V)</th>\n",
              "      <th>DC CURRENT(A)</th>\n",
              "      <th>DC POWER (KW) Actual</th>\n",
              "      <th>AC ENERGY OUTPUT (kWH) Actual</th>\n",
              "      <th>AC POWER (KW) Actual</th>\n",
              "      <th>REACTIVE POWER (KVAR)</th>\n",
              "      <th>LINE VOLTAGE Vry(V)</th>\n",
              "      <th>LINE VOLTAGE Vyb(V)</th>\n",
              "      <th>LINE VOLTAGE Vbr(V)</th>\n",
              "      <th>LINE CURRENT Ir(A)</th>\n",
              "      <th>LINE CURRENT Iy(A)</th>\n",
              "      <th>LINE CURRENT Ib(A)</th>\n",
              "      <th>FREQUENCY(Hz)</th>\n",
              "      <th>DC VOLTAGE(V)</th>\n",
              "      <th>DC CURRENT(A)</th>\n",
              "      <th>DC POWER (KW) Actual</th>\n",
              "      <th>AC ENERGY OUTPUT (kWH) Actual</th>\n",
              "      <th>AC POWER (KW) Actual</th>\n",
              "      <th>REACTIVE POWER (KVAR)</th>\n",
              "      <th>LINE VOLTAGE Vry(V)</th>\n",
              "      <th>LINE VOLTAGE Vyb(V)</th>\n",
              "      <th>LINE VOLTAGE Vbr(V)</th>\n",
              "      <th>LINE CURRENT Ir(A)</th>\n",
              "      <th>LINE CURRENT Iy(A)</th>\n",
              "      <th>LINE CURRENT Ib(A)</th>\n",
              "      <th>FREQUENCY(Hz)</th>\n",
              "      <th>DC VOLTAGE(V)</th>\n",
              "      <th>DC CURRENT(A)</th>\n",
              "      <th>DC POWER (KW) Actual</th>\n",
              "      <th>AC ENERGY OUTPUT (kWH) Actual</th>\n",
              "      <th>AC POWER (KW) Actual</th>\n",
              "      <th>REACTIVE POWER (KVAR)</th>\n",
              "      <th>LINE VOLTAGE Vry(V)</th>\n",
              "      <th>LINE VOLTAGE Vyb(V)</th>\n",
              "      <th>LINE VOLTAGE Vbr(V)</th>\n",
              "      <th>LINE CURRENT Ir(A)</th>\n",
              "      <th>LINE CURRENT Iy(A)</th>\n",
              "      <th>LINE CURRENT Ib(A)</th>\n",
              "      <th>FREQUENCY(Hz)</th>\n",
              "      <th>DC VOLTAGE(V)</th>\n",
              "      <th>DC CURRENT(A)</th>\n",
              "      <th>DC POWER (KW) Actual</th>\n",
              "      <th>AC ENERGY OUTPUT (kWH) Actual</th>\n",
              "    </tr>\n",
              "  </thead>\n",
              "  <tbody>\n",
              "    <tr>\n",
              "      <th>0</th>\n",
              "      <td>2020-04-01 00:00:00.012</td>\n",
              "      <td>0</td>\n",
              "      <td>0</td>\n",
              "      <td>381</td>\n",
              "      <td>379</td>\n",
              "      <td>383</td>\n",
              "      <td>0</td>\n",
              "      <td>0</td>\n",
              "      <td>0</td>\n",
              "      <td>50</td>\n",
              "      <td>0</td>\n",
              "      <td>0</td>\n",
              "      <td>0</td>\n",
              "      <td>6762</td>\n",
              "      <td>0</td>\n",
              "      <td>0</td>\n",
              "      <td>381</td>\n",
              "      <td>380</td>\n",
              "      <td>383</td>\n",
              "      <td>0</td>\n",
              "      <td>0</td>\n",
              "      <td>0</td>\n",
              "      <td>50</td>\n",
              "      <td>0</td>\n",
              "      <td>0</td>\n",
              "      <td>0</td>\n",
              "      <td>6778</td>\n",
              "      <td>0</td>\n",
              "      <td>0</td>\n",
              "      <td>380</td>\n",
              "      <td>380</td>\n",
              "      <td>383</td>\n",
              "      <td>0</td>\n",
              "      <td>0</td>\n",
              "      <td>0</td>\n",
              "      <td>50</td>\n",
              "      <td>0</td>\n",
              "      <td>0</td>\n",
              "      <td>0</td>\n",
              "      <td>6639</td>\n",
              "      <td>0</td>\n",
              "      <td>0</td>\n",
              "      <td>380</td>\n",
              "      <td>379</td>\n",
              "      <td>383</td>\n",
              "      <td>0</td>\n",
              "      <td>0</td>\n",
              "      <td>0</td>\n",
              "      <td>50</td>\n",
              "      <td>0</td>\n",
              "      <td>0</td>\n",
              "      <td>0</td>\n",
              "      <td>6772</td>\n",
              "    </tr>\n",
              "    <tr>\n",
              "      <th>1</th>\n",
              "      <td>2020-04-01 00:01:00.015</td>\n",
              "      <td>0</td>\n",
              "      <td>0</td>\n",
              "      <td>380</td>\n",
              "      <td>380</td>\n",
              "      <td>383</td>\n",
              "      <td>0</td>\n",
              "      <td>0</td>\n",
              "      <td>0</td>\n",
              "      <td>50</td>\n",
              "      <td>0</td>\n",
              "      <td>0</td>\n",
              "      <td>0</td>\n",
              "      <td>0</td>\n",
              "      <td>0</td>\n",
              "      <td>0</td>\n",
              "      <td>381</td>\n",
              "      <td>380</td>\n",
              "      <td>383</td>\n",
              "      <td>0</td>\n",
              "      <td>0</td>\n",
              "      <td>0</td>\n",
              "      <td>50</td>\n",
              "      <td>0</td>\n",
              "      <td>0</td>\n",
              "      <td>0</td>\n",
              "      <td>0</td>\n",
              "      <td>0</td>\n",
              "      <td>0</td>\n",
              "      <td>380</td>\n",
              "      <td>380</td>\n",
              "      <td>382</td>\n",
              "      <td>0</td>\n",
              "      <td>0</td>\n",
              "      <td>0</td>\n",
              "      <td>50</td>\n",
              "      <td>0</td>\n",
              "      <td>0</td>\n",
              "      <td>0</td>\n",
              "      <td>0</td>\n",
              "      <td>0</td>\n",
              "      <td>0</td>\n",
              "      <td>380</td>\n",
              "      <td>379</td>\n",
              "      <td>383</td>\n",
              "      <td>0</td>\n",
              "      <td>0</td>\n",
              "      <td>0</td>\n",
              "      <td>50</td>\n",
              "      <td>0</td>\n",
              "      <td>0</td>\n",
              "      <td>0</td>\n",
              "      <td>0</td>\n",
              "    </tr>\n",
              "    <tr>\n",
              "      <th>2</th>\n",
              "      <td>2020-04-01 00:02:00.012</td>\n",
              "      <td>0</td>\n",
              "      <td>0</td>\n",
              "      <td>381</td>\n",
              "      <td>380</td>\n",
              "      <td>382</td>\n",
              "      <td>0</td>\n",
              "      <td>0</td>\n",
              "      <td>0</td>\n",
              "      <td>50</td>\n",
              "      <td>0</td>\n",
              "      <td>0</td>\n",
              "      <td>0</td>\n",
              "      <td>0</td>\n",
              "      <td>0</td>\n",
              "      <td>0</td>\n",
              "      <td>381</td>\n",
              "      <td>380</td>\n",
              "      <td>383</td>\n",
              "      <td>0</td>\n",
              "      <td>0</td>\n",
              "      <td>0</td>\n",
              "      <td>50</td>\n",
              "      <td>0</td>\n",
              "      <td>0</td>\n",
              "      <td>0</td>\n",
              "      <td>0</td>\n",
              "      <td>0</td>\n",
              "      <td>0</td>\n",
              "      <td>380</td>\n",
              "      <td>379</td>\n",
              "      <td>382</td>\n",
              "      <td>0</td>\n",
              "      <td>0</td>\n",
              "      <td>0</td>\n",
              "      <td>50</td>\n",
              "      <td>0</td>\n",
              "      <td>0</td>\n",
              "      <td>0</td>\n",
              "      <td>0</td>\n",
              "      <td>0</td>\n",
              "      <td>0</td>\n",
              "      <td>379</td>\n",
              "      <td>379</td>\n",
              "      <td>382</td>\n",
              "      <td>0</td>\n",
              "      <td>0</td>\n",
              "      <td>0</td>\n",
              "      <td>50</td>\n",
              "      <td>0</td>\n",
              "      <td>0</td>\n",
              "      <td>0</td>\n",
              "      <td>0</td>\n",
              "    </tr>\n",
              "    <tr>\n",
              "      <th>3</th>\n",
              "      <td>2020-04-01 00:03:00.014</td>\n",
              "      <td>0</td>\n",
              "      <td>0</td>\n",
              "      <td>380</td>\n",
              "      <td>379</td>\n",
              "      <td>382</td>\n",
              "      <td>0</td>\n",
              "      <td>0</td>\n",
              "      <td>0</td>\n",
              "      <td>49</td>\n",
              "      <td>0</td>\n",
              "      <td>0</td>\n",
              "      <td>0</td>\n",
              "      <td>0</td>\n",
              "      <td>0</td>\n",
              "      <td>0</td>\n",
              "      <td>380</td>\n",
              "      <td>380</td>\n",
              "      <td>382</td>\n",
              "      <td>0</td>\n",
              "      <td>0</td>\n",
              "      <td>0</td>\n",
              "      <td>49</td>\n",
              "      <td>0</td>\n",
              "      <td>0</td>\n",
              "      <td>0</td>\n",
              "      <td>0</td>\n",
              "      <td>0</td>\n",
              "      <td>0</td>\n",
              "      <td>380</td>\n",
              "      <td>379</td>\n",
              "      <td>381</td>\n",
              "      <td>0</td>\n",
              "      <td>0</td>\n",
              "      <td>0</td>\n",
              "      <td>49</td>\n",
              "      <td>0</td>\n",
              "      <td>0</td>\n",
              "      <td>0</td>\n",
              "      <td>0</td>\n",
              "      <td>0</td>\n",
              "      <td>0</td>\n",
              "      <td>379</td>\n",
              "      <td>379</td>\n",
              "      <td>381</td>\n",
              "      <td>0</td>\n",
              "      <td>0</td>\n",
              "      <td>0</td>\n",
              "      <td>49</td>\n",
              "      <td>0</td>\n",
              "      <td>0</td>\n",
              "      <td>0</td>\n",
              "      <td>0</td>\n",
              "    </tr>\n",
              "    <tr>\n",
              "      <th>4</th>\n",
              "      <td>2020-04-01 00:04:00.015</td>\n",
              "      <td>0</td>\n",
              "      <td>0</td>\n",
              "      <td>380</td>\n",
              "      <td>378</td>\n",
              "      <td>381</td>\n",
              "      <td>0</td>\n",
              "      <td>0</td>\n",
              "      <td>0</td>\n",
              "      <td>49</td>\n",
              "      <td>0</td>\n",
              "      <td>0</td>\n",
              "      <td>0</td>\n",
              "      <td>0</td>\n",
              "      <td>0</td>\n",
              "      <td>0</td>\n",
              "      <td>379</td>\n",
              "      <td>379</td>\n",
              "      <td>382</td>\n",
              "      <td>0</td>\n",
              "      <td>0</td>\n",
              "      <td>0</td>\n",
              "      <td>49</td>\n",
              "      <td>0</td>\n",
              "      <td>0</td>\n",
              "      <td>0</td>\n",
              "      <td>0</td>\n",
              "      <td>0</td>\n",
              "      <td>0</td>\n",
              "      <td>379</td>\n",
              "      <td>378</td>\n",
              "      <td>380</td>\n",
              "      <td>0</td>\n",
              "      <td>0</td>\n",
              "      <td>0</td>\n",
              "      <td>49</td>\n",
              "      <td>0</td>\n",
              "      <td>0</td>\n",
              "      <td>0</td>\n",
              "      <td>0</td>\n",
              "      <td>0</td>\n",
              "      <td>0</td>\n",
              "      <td>379</td>\n",
              "      <td>379</td>\n",
              "      <td>380</td>\n",
              "      <td>0</td>\n",
              "      <td>0</td>\n",
              "      <td>0</td>\n",
              "      <td>49</td>\n",
              "      <td>0</td>\n",
              "      <td>0</td>\n",
              "      <td>0</td>\n",
              "      <td>0</td>\n",
              "    </tr>\n",
              "  </tbody>\n",
              "</table>\n",
              "</div>"
            ],
            "text/plain": [
              "       Unnamed: 0_level_0  ...                    INVERTER 4\n",
              "       Unnamed: 0_level_1  ... AC ENERGY OUTPUT (kWH) Actual\n",
              "0 2020-04-01 00:00:00.012  ...                          6772\n",
              "1 2020-04-01 00:01:00.015  ...                             0\n",
              "2 2020-04-01 00:02:00.012  ...                             0\n",
              "3 2020-04-01 00:03:00.014  ...                             0\n",
              "4 2020-04-01 00:04:00.015  ...                             0\n",
              "\n",
              "[5 rows x 53 columns]"
            ]
          },
          "metadata": {
            "tags": []
          },
          "execution_count": 358
        }
      ]
    },
    {
      "cell_type": "code",
      "metadata": {
        "id": "zIL68ssHDk1c",
        "colab_type": "code",
        "outputId": "5f680398-850c-4a29-ef3d-8ca6b2f3eada",
        "colab": {
          "base_uri": "https://localhost:8080/",
          "height": 34
        }
      },
      "source": [
        "inv1.index.nlevels  # levels in index"
      ],
      "execution_count": 359,
      "outputs": [
        {
          "output_type": "execute_result",
          "data": {
            "text/plain": [
              "1"
            ]
          },
          "metadata": {
            "tags": []
          },
          "execution_count": 359
        }
      ]
    },
    {
      "cell_type": "code",
      "metadata": {
        "id": "p7X3sg0lDlAH",
        "colab_type": "code",
        "outputId": "7f10ea94-15f3-482b-989f-78fbcb09bf73",
        "colab": {
          "base_uri": "https://localhost:8080/",
          "height": 34
        }
      },
      "source": [
        "inv1.columns.nlevels  # levels in columns"
      ],
      "execution_count": 363,
      "outputs": [
        {
          "output_type": "execute_result",
          "data": {
            "text/plain": [
              "2"
            ]
          },
          "metadata": {
            "tags": []
          },
          "execution_count": 363
        }
      ]
    },
    {
      "cell_type": "code",
      "metadata": {
        "id": "e_tgtH2_DpjF",
        "colab_type": "code",
        "outputId": "95dde23a-8719-48e6-b419-917194494ba3",
        "colab": {
          "base_uri": "https://localhost:8080/",
          "height": 34
        }
      },
      "source": [
        "inv1.index = inv1.index.get_level_values(0)\n",
        "inv1.index"
      ],
      "execution_count": 364,
      "outputs": [
        {
          "output_type": "execute_result",
          "data": {
            "text/plain": [
              "RangeIndex(start=0, stop=1439, step=1)"
            ]
          },
          "metadata": {
            "tags": []
          },
          "execution_count": 364
        }
      ]
    },
    {
      "cell_type": "code",
      "metadata": {
        "id": "5V1ZAQiWDprP",
        "colab_type": "code",
        "colab": {}
      },
      "source": [
        "inv1.index.name=\"sr.no.\""
      ],
      "execution_count": 0,
      "outputs": []
    },
    {
      "cell_type": "code",
      "metadata": {
        "id": "gDvEZj_3Dpov",
        "colab_type": "code",
        "colab": {}
      },
      "source": [
        "date2=inv1.xs('Unnamed: 0_level_1',axis=1, level=1, drop_level=False)"
      ],
      "execution_count": 0,
      "outputs": []
    },
    {
      "cell_type": "code",
      "metadata": {
        "id": "sHvXFyIyDk8h",
        "colab_type": "code",
        "outputId": "58f6441e-d5ae-41a5-bc9a-2c231d17ad87",
        "colab": {
          "base_uri": "https://localhost:8080/",
          "height": 481
        }
      },
      "source": [
        "date2"
      ],
      "execution_count": 367,
      "outputs": [
        {
          "output_type": "execute_result",
          "data": {
            "text/html": [
              "<div>\n",
              "<style scoped>\n",
              "    .dataframe tbody tr th:only-of-type {\n",
              "        vertical-align: middle;\n",
              "    }\n",
              "\n",
              "    .dataframe tbody tr th {\n",
              "        vertical-align: top;\n",
              "    }\n",
              "\n",
              "    .dataframe thead tr th {\n",
              "        text-align: left;\n",
              "    }\n",
              "\n",
              "    .dataframe thead tr:last-of-type th {\n",
              "        text-align: right;\n",
              "    }\n",
              "</style>\n",
              "<table border=\"1\" class=\"dataframe\">\n",
              "  <thead>\n",
              "    <tr>\n",
              "      <th></th>\n",
              "      <th>Unnamed: 0_level_0</th>\n",
              "    </tr>\n",
              "    <tr>\n",
              "      <th></th>\n",
              "      <th>Unnamed: 0_level_1</th>\n",
              "    </tr>\n",
              "    <tr>\n",
              "      <th>sr.no.</th>\n",
              "      <th></th>\n",
              "    </tr>\n",
              "  </thead>\n",
              "  <tbody>\n",
              "    <tr>\n",
              "      <th>0</th>\n",
              "      <td>2020-04-01 00:00:00.012</td>\n",
              "    </tr>\n",
              "    <tr>\n",
              "      <th>1</th>\n",
              "      <td>2020-04-01 00:01:00.015</td>\n",
              "    </tr>\n",
              "    <tr>\n",
              "      <th>2</th>\n",
              "      <td>2020-04-01 00:02:00.012</td>\n",
              "    </tr>\n",
              "    <tr>\n",
              "      <th>3</th>\n",
              "      <td>2020-04-01 00:03:00.014</td>\n",
              "    </tr>\n",
              "    <tr>\n",
              "      <th>4</th>\n",
              "      <td>2020-04-01 00:04:00.015</td>\n",
              "    </tr>\n",
              "    <tr>\n",
              "      <th>...</th>\n",
              "      <td>...</td>\n",
              "    </tr>\n",
              "    <tr>\n",
              "      <th>1434</th>\n",
              "      <td>2020-04-01 23:54:00.015</td>\n",
              "    </tr>\n",
              "    <tr>\n",
              "      <th>1435</th>\n",
              "      <td>2020-04-01 23:55:00.015</td>\n",
              "    </tr>\n",
              "    <tr>\n",
              "      <th>1436</th>\n",
              "      <td>2020-04-01 23:56:00.013</td>\n",
              "    </tr>\n",
              "    <tr>\n",
              "      <th>1437</th>\n",
              "      <td>2020-04-01 23:57:00.012</td>\n",
              "    </tr>\n",
              "    <tr>\n",
              "      <th>1438</th>\n",
              "      <td>2020-04-01 23:58:00.013</td>\n",
              "    </tr>\n",
              "  </tbody>\n",
              "</table>\n",
              "<p>1439 rows × 1 columns</p>\n",
              "</div>"
            ],
            "text/plain": [
              "            Unnamed: 0_level_0\n",
              "            Unnamed: 0_level_1\n",
              "sr.no.                        \n",
              "0      2020-04-01 00:00:00.012\n",
              "1      2020-04-01 00:01:00.015\n",
              "2      2020-04-01 00:02:00.012\n",
              "3      2020-04-01 00:03:00.014\n",
              "4      2020-04-01 00:04:00.015\n",
              "...                        ...\n",
              "1434   2020-04-01 23:54:00.015\n",
              "1435   2020-04-01 23:55:00.015\n",
              "1436   2020-04-01 23:56:00.013\n",
              "1437   2020-04-01 23:57:00.012\n",
              "1438   2020-04-01 23:58:00.013\n",
              "\n",
              "[1439 rows x 1 columns]"
            ]
          },
          "metadata": {
            "tags": []
          },
          "execution_count": 367
        }
      ]
    },
    {
      "cell_type": "code",
      "metadata": {
        "id": "MPVvxEd2wAUX",
        "colab_type": "code",
        "colab": {}
      },
      "source": [
        "data_ac=inv1.xs('AC POWER (KW) Actual',axis=1, level=1, drop_level=False)"
      ],
      "execution_count": 0,
      "outputs": []
    },
    {
      "cell_type": "code",
      "metadata": {
        "id": "TBlsUSLnwAQ3",
        "colab_type": "code",
        "outputId": "b2b474b7-863c-45c2-8160-c8baa72105d6",
        "colab": {
          "base_uri": "https://localhost:8080/",
          "height": 34
        }
      },
      "source": [
        "data_ac.shape"
      ],
      "execution_count": 369,
      "outputs": [
        {
          "output_type": "execute_result",
          "data": {
            "text/plain": [
              "(1439, 4)"
            ]
          },
          "metadata": {
            "tags": []
          },
          "execution_count": 369
        }
      ]
    },
    {
      "cell_type": "code",
      "metadata": {
        "id": "M9AKs1eUwavo",
        "colab_type": "code",
        "colab": {}
      },
      "source": [
        "data_dc=inv1.xs('DC POWER (KW) Actual',axis=1, level=1, drop_level=False)"
      ],
      "execution_count": 0,
      "outputs": []
    },
    {
      "cell_type": "code",
      "metadata": {
        "id": "MeXEH2hswarV",
        "colab_type": "code",
        "outputId": "a7e90f84-c619-40a9-be3e-ac8b0035b63c",
        "colab": {
          "base_uri": "https://localhost:8080/",
          "height": 34
        }
      },
      "source": [
        "data_dc.shape"
      ],
      "execution_count": 371,
      "outputs": [
        {
          "output_type": "execute_result",
          "data": {
            "text/plain": [
              "(1439, 4)"
            ]
          },
          "metadata": {
            "tags": []
          },
          "execution_count": 371
        }
      ]
    },
    {
      "cell_type": "code",
      "metadata": {
        "id": "TuXxks_vj1oG",
        "colab_type": "code",
        "colab": {}
      },
      "source": [
        "frames=[data_ac, data_dc]\n",
        "data2=pd.concat(frames, axis=1)"
      ],
      "execution_count": 0,
      "outputs": []
    },
    {
      "cell_type": "code",
      "metadata": {
        "id": "uGALQ9kZwpK2",
        "colab_type": "code",
        "outputId": "29011f95-58f9-45f2-e70e-84b15498ea06",
        "colab": {
          "base_uri": "https://localhost:8080/",
          "height": 34
        }
      },
      "source": [
        "data2.shape"
      ],
      "execution_count": 373,
      "outputs": [
        {
          "output_type": "execute_result",
          "data": {
            "text/plain": [
              "(1439, 8)"
            ]
          },
          "metadata": {
            "tags": []
          },
          "execution_count": 373
        }
      ]
    },
    {
      "cell_type": "code",
      "metadata": {
        "id": "6rKrSvjTwpIr",
        "colab_type": "code",
        "outputId": "95b9046f-dba7-42a3-adc6-321931ddf624",
        "colab": {
          "base_uri": "https://localhost:8080/",
          "height": 498
        }
      },
      "source": [
        "data2"
      ],
      "execution_count": 374,
      "outputs": [
        {
          "output_type": "execute_result",
          "data": {
            "text/html": [
              "<div>\n",
              "<style scoped>\n",
              "    .dataframe tbody tr th:only-of-type {\n",
              "        vertical-align: middle;\n",
              "    }\n",
              "\n",
              "    .dataframe tbody tr th {\n",
              "        vertical-align: top;\n",
              "    }\n",
              "\n",
              "    .dataframe thead tr th {\n",
              "        text-align: left;\n",
              "    }\n",
              "\n",
              "    .dataframe thead tr:last-of-type th {\n",
              "        text-align: right;\n",
              "    }\n",
              "</style>\n",
              "<table border=\"1\" class=\"dataframe\">\n",
              "  <thead>\n",
              "    <tr>\n",
              "      <th></th>\n",
              "      <th>INVERTER 1</th>\n",
              "      <th>INVERTER 2</th>\n",
              "      <th>INVERTER 3</th>\n",
              "      <th>INVERTER 4</th>\n",
              "      <th>INVERTER 1</th>\n",
              "      <th>INVERTER 2</th>\n",
              "      <th>INVERTER 3</th>\n",
              "      <th>INVERTER 4</th>\n",
              "    </tr>\n",
              "    <tr>\n",
              "      <th></th>\n",
              "      <th>AC POWER (KW) Actual</th>\n",
              "      <th>AC POWER (KW) Actual</th>\n",
              "      <th>AC POWER (KW) Actual</th>\n",
              "      <th>AC POWER (KW) Actual</th>\n",
              "      <th>DC POWER (KW) Actual</th>\n",
              "      <th>DC POWER (KW) Actual</th>\n",
              "      <th>DC POWER (KW) Actual</th>\n",
              "      <th>DC POWER (KW) Actual</th>\n",
              "    </tr>\n",
              "    <tr>\n",
              "      <th>sr.no.</th>\n",
              "      <th></th>\n",
              "      <th></th>\n",
              "      <th></th>\n",
              "      <th></th>\n",
              "      <th></th>\n",
              "      <th></th>\n",
              "      <th></th>\n",
              "      <th></th>\n",
              "    </tr>\n",
              "  </thead>\n",
              "  <tbody>\n",
              "    <tr>\n",
              "      <th>0</th>\n",
              "      <td>0</td>\n",
              "      <td>0</td>\n",
              "      <td>0</td>\n",
              "      <td>0</td>\n",
              "      <td>0</td>\n",
              "      <td>0</td>\n",
              "      <td>0</td>\n",
              "      <td>0</td>\n",
              "    </tr>\n",
              "    <tr>\n",
              "      <th>1</th>\n",
              "      <td>0</td>\n",
              "      <td>0</td>\n",
              "      <td>0</td>\n",
              "      <td>0</td>\n",
              "      <td>0</td>\n",
              "      <td>0</td>\n",
              "      <td>0</td>\n",
              "      <td>0</td>\n",
              "    </tr>\n",
              "    <tr>\n",
              "      <th>2</th>\n",
              "      <td>0</td>\n",
              "      <td>0</td>\n",
              "      <td>0</td>\n",
              "      <td>0</td>\n",
              "      <td>0</td>\n",
              "      <td>0</td>\n",
              "      <td>0</td>\n",
              "      <td>0</td>\n",
              "    </tr>\n",
              "    <tr>\n",
              "      <th>3</th>\n",
              "      <td>0</td>\n",
              "      <td>0</td>\n",
              "      <td>0</td>\n",
              "      <td>0</td>\n",
              "      <td>0</td>\n",
              "      <td>0</td>\n",
              "      <td>0</td>\n",
              "      <td>0</td>\n",
              "    </tr>\n",
              "    <tr>\n",
              "      <th>4</th>\n",
              "      <td>0</td>\n",
              "      <td>0</td>\n",
              "      <td>0</td>\n",
              "      <td>0</td>\n",
              "      <td>0</td>\n",
              "      <td>0</td>\n",
              "      <td>0</td>\n",
              "      <td>0</td>\n",
              "    </tr>\n",
              "    <tr>\n",
              "      <th>...</th>\n",
              "      <td>...</td>\n",
              "      <td>...</td>\n",
              "      <td>...</td>\n",
              "      <td>...</td>\n",
              "      <td>...</td>\n",
              "      <td>...</td>\n",
              "      <td>...</td>\n",
              "      <td>...</td>\n",
              "    </tr>\n",
              "    <tr>\n",
              "      <th>1434</th>\n",
              "      <td>0</td>\n",
              "      <td>0</td>\n",
              "      <td>0</td>\n",
              "      <td>0</td>\n",
              "      <td>0</td>\n",
              "      <td>0</td>\n",
              "      <td>0</td>\n",
              "      <td>0</td>\n",
              "    </tr>\n",
              "    <tr>\n",
              "      <th>1435</th>\n",
              "      <td>0</td>\n",
              "      <td>0</td>\n",
              "      <td>0</td>\n",
              "      <td>0</td>\n",
              "      <td>0</td>\n",
              "      <td>0</td>\n",
              "      <td>0</td>\n",
              "      <td>0</td>\n",
              "    </tr>\n",
              "    <tr>\n",
              "      <th>1436</th>\n",
              "      <td>0</td>\n",
              "      <td>0</td>\n",
              "      <td>0</td>\n",
              "      <td>0</td>\n",
              "      <td>0</td>\n",
              "      <td>0</td>\n",
              "      <td>0</td>\n",
              "      <td>0</td>\n",
              "    </tr>\n",
              "    <tr>\n",
              "      <th>1437</th>\n",
              "      <td>0</td>\n",
              "      <td>0</td>\n",
              "      <td>0</td>\n",
              "      <td>0</td>\n",
              "      <td>0</td>\n",
              "      <td>0</td>\n",
              "      <td>0</td>\n",
              "      <td>0</td>\n",
              "    </tr>\n",
              "    <tr>\n",
              "      <th>1438</th>\n",
              "      <td>0</td>\n",
              "      <td>0</td>\n",
              "      <td>0</td>\n",
              "      <td>0</td>\n",
              "      <td>0</td>\n",
              "      <td>0</td>\n",
              "      <td>0</td>\n",
              "      <td>0</td>\n",
              "    </tr>\n",
              "  </tbody>\n",
              "</table>\n",
              "<p>1439 rows × 8 columns</p>\n",
              "</div>"
            ],
            "text/plain": [
              "                 INVERTER 1  ...           INVERTER 4\n",
              "       AC POWER (KW) Actual  ... DC POWER (KW) Actual\n",
              "sr.no.                       ...                     \n",
              "0                         0  ...                    0\n",
              "1                         0  ...                    0\n",
              "2                         0  ...                    0\n",
              "3                         0  ...                    0\n",
              "4                         0  ...                    0\n",
              "...                     ...  ...                  ...\n",
              "1434                      0  ...                    0\n",
              "1435                      0  ...                    0\n",
              "1436                      0  ...                    0\n",
              "1437                      0  ...                    0\n",
              "1438                      0  ...                    0\n",
              "\n",
              "[1439 rows x 8 columns]"
            ]
          },
          "metadata": {
            "tags": []
          },
          "execution_count": 374
        }
      ]
    },
    {
      "cell_type": "code",
      "metadata": {
        "id": "P4IYwei1wpFR",
        "colab_type": "code",
        "colab": {}
      },
      "source": [
        "inv_data=date2.join(data2)"
      ],
      "execution_count": 0,
      "outputs": []
    },
    {
      "cell_type": "code",
      "metadata": {
        "id": "Jrev8nlZEnjq",
        "colab_type": "code",
        "outputId": "77f1ee79-67f8-4f83-e8eb-dc346eb11039",
        "colab": {
          "base_uri": "https://localhost:8080/",
          "height": 34
        }
      },
      "source": [
        "inv_data.shape"
      ],
      "execution_count": 376,
      "outputs": [
        {
          "output_type": "execute_result",
          "data": {
            "text/plain": [
              "(1439, 9)"
            ]
          },
          "metadata": {
            "tags": []
          },
          "execution_count": 376
        }
      ]
    },
    {
      "cell_type": "code",
      "metadata": {
        "id": "al60mjCWEnsL",
        "colab_type": "code",
        "outputId": "abb7d73a-0ad2-42d4-84ad-09e9b137ff5e",
        "colab": {
          "base_uri": "https://localhost:8080/",
          "height": 187
        }
      },
      "source": [
        "inv_data.columns"
      ],
      "execution_count": 377,
      "outputs": [
        {
          "output_type": "execute_result",
          "data": {
            "text/plain": [
              "MultiIndex([('Unnamed: 0_level_0',   'Unnamed: 0_level_1'),\n",
              "            (        'INVERTER 1', 'AC POWER (KW) Actual'),\n",
              "            (        'INVERTER 2', 'AC POWER (KW) Actual'),\n",
              "            (        'INVERTER 3', 'AC POWER (KW) Actual'),\n",
              "            (        'INVERTER 4', 'AC POWER (KW) Actual'),\n",
              "            (        'INVERTER 1', 'DC POWER (KW) Actual'),\n",
              "            (        'INVERTER 2', 'DC POWER (KW) Actual'),\n",
              "            (        'INVERTER 3', 'DC POWER (KW) Actual'),\n",
              "            (        'INVERTER 4', 'DC POWER (KW) Actual')],\n",
              "           )"
            ]
          },
          "metadata": {
            "tags": []
          },
          "execution_count": 377
        }
      ]
    },
    {
      "cell_type": "code",
      "metadata": {
        "id": "hjYwDdYxFaS7",
        "colab_type": "code",
        "outputId": "e95dda61-c837-463f-d7b6-d08e0b437e5b",
        "colab": {
          "base_uri": "https://localhost:8080/",
          "height": 385
        }
      },
      "source": [
        "inv_data.head()"
      ],
      "execution_count": 378,
      "outputs": [
        {
          "output_type": "execute_result",
          "data": {
            "text/html": [
              "<div>\n",
              "<style scoped>\n",
              "    .dataframe tbody tr th:only-of-type {\n",
              "        vertical-align: middle;\n",
              "    }\n",
              "\n",
              "    .dataframe tbody tr th {\n",
              "        vertical-align: top;\n",
              "    }\n",
              "\n",
              "    .dataframe thead tr th {\n",
              "        text-align: left;\n",
              "    }\n",
              "\n",
              "    .dataframe thead tr:last-of-type th {\n",
              "        text-align: right;\n",
              "    }\n",
              "</style>\n",
              "<table border=\"1\" class=\"dataframe\">\n",
              "  <thead>\n",
              "    <tr>\n",
              "      <th></th>\n",
              "      <th>Unnamed: 0_level_0</th>\n",
              "      <th>INVERTER 1</th>\n",
              "      <th>INVERTER 2</th>\n",
              "      <th>INVERTER 3</th>\n",
              "      <th>INVERTER 4</th>\n",
              "      <th>INVERTER 1</th>\n",
              "      <th>INVERTER 2</th>\n",
              "      <th>INVERTER 3</th>\n",
              "      <th>INVERTER 4</th>\n",
              "    </tr>\n",
              "    <tr>\n",
              "      <th></th>\n",
              "      <th>Unnamed: 0_level_1</th>\n",
              "      <th>AC POWER (KW) Actual</th>\n",
              "      <th>AC POWER (KW) Actual</th>\n",
              "      <th>AC POWER (KW) Actual</th>\n",
              "      <th>AC POWER (KW) Actual</th>\n",
              "      <th>DC POWER (KW) Actual</th>\n",
              "      <th>DC POWER (KW) Actual</th>\n",
              "      <th>DC POWER (KW) Actual</th>\n",
              "      <th>DC POWER (KW) Actual</th>\n",
              "    </tr>\n",
              "    <tr>\n",
              "      <th>sr.no.</th>\n",
              "      <th></th>\n",
              "      <th></th>\n",
              "      <th></th>\n",
              "      <th></th>\n",
              "      <th></th>\n",
              "      <th></th>\n",
              "      <th></th>\n",
              "      <th></th>\n",
              "      <th></th>\n",
              "    </tr>\n",
              "  </thead>\n",
              "  <tbody>\n",
              "    <tr>\n",
              "      <th>0</th>\n",
              "      <td>2020-04-01 00:00:00.012</td>\n",
              "      <td>0</td>\n",
              "      <td>0</td>\n",
              "      <td>0</td>\n",
              "      <td>0</td>\n",
              "      <td>0</td>\n",
              "      <td>0</td>\n",
              "      <td>0</td>\n",
              "      <td>0</td>\n",
              "    </tr>\n",
              "    <tr>\n",
              "      <th>1</th>\n",
              "      <td>2020-04-01 00:01:00.015</td>\n",
              "      <td>0</td>\n",
              "      <td>0</td>\n",
              "      <td>0</td>\n",
              "      <td>0</td>\n",
              "      <td>0</td>\n",
              "      <td>0</td>\n",
              "      <td>0</td>\n",
              "      <td>0</td>\n",
              "    </tr>\n",
              "    <tr>\n",
              "      <th>2</th>\n",
              "      <td>2020-04-01 00:02:00.012</td>\n",
              "      <td>0</td>\n",
              "      <td>0</td>\n",
              "      <td>0</td>\n",
              "      <td>0</td>\n",
              "      <td>0</td>\n",
              "      <td>0</td>\n",
              "      <td>0</td>\n",
              "      <td>0</td>\n",
              "    </tr>\n",
              "    <tr>\n",
              "      <th>3</th>\n",
              "      <td>2020-04-01 00:03:00.014</td>\n",
              "      <td>0</td>\n",
              "      <td>0</td>\n",
              "      <td>0</td>\n",
              "      <td>0</td>\n",
              "      <td>0</td>\n",
              "      <td>0</td>\n",
              "      <td>0</td>\n",
              "      <td>0</td>\n",
              "    </tr>\n",
              "    <tr>\n",
              "      <th>4</th>\n",
              "      <td>2020-04-01 00:04:00.015</td>\n",
              "      <td>0</td>\n",
              "      <td>0</td>\n",
              "      <td>0</td>\n",
              "      <td>0</td>\n",
              "      <td>0</td>\n",
              "      <td>0</td>\n",
              "      <td>0</td>\n",
              "      <td>0</td>\n",
              "    </tr>\n",
              "  </tbody>\n",
              "</table>\n",
              "</div>"
            ],
            "text/plain": [
              "            Unnamed: 0_level_0  ...           INVERTER 4\n",
              "            Unnamed: 0_level_1  ... DC POWER (KW) Actual\n",
              "sr.no.                          ...                     \n",
              "0      2020-04-01 00:00:00.012  ...                    0\n",
              "1      2020-04-01 00:01:00.015  ...                    0\n",
              "2      2020-04-01 00:02:00.012  ...                    0\n",
              "3      2020-04-01 00:03:00.014  ...                    0\n",
              "4      2020-04-01 00:04:00.015  ...                    0\n",
              "\n",
              "[5 rows x 9 columns]"
            ]
          },
          "metadata": {
            "tags": []
          },
          "execution_count": 378
        }
      ]
    },
    {
      "cell_type": "code",
      "metadata": {
        "id": "taUMX5NwEoIx",
        "colab_type": "code",
        "colab": {}
      },
      "source": [
        "data=pd.merge(fuse_data, inv_data, left_index=True, right_index=True)"
      ],
      "execution_count": 0,
      "outputs": []
    },
    {
      "cell_type": "code",
      "metadata": {
        "id": "9T2OKp_JEoEm",
        "colab_type": "code",
        "outputId": "a12c2cf1-4191-4e37-e9b3-65a1d29c234f",
        "colab": {
          "base_uri": "https://localhost:8080/",
          "height": 34
        }
      },
      "source": [
        "data.shape"
      ],
      "execution_count": 380,
      "outputs": [
        {
          "output_type": "execute_result",
          "data": {
            "text/plain": [
              "(1439, 14)"
            ]
          },
          "metadata": {
            "tags": []
          },
          "execution_count": 380
        }
      ]
    },
    {
      "cell_type": "code",
      "metadata": {
        "id": "IBIYNiYTGxTm",
        "colab_type": "code",
        "outputId": "18274bf3-9f18-42c0-e2b6-3901eff930e9",
        "colab": {
          "base_uri": "https://localhost:8080/",
          "height": 272
        }
      },
      "source": [
        "data.columns"
      ],
      "execution_count": 402,
      "outputs": [
        {
          "output_type": "execute_result",
          "data": {
            "text/plain": [
              "MultiIndex([('Unnamed: 0_level_0_x',   'Unnamed: 0_level_1'),\n",
              "            (          'FUSE BOX 1', 'INTERNAL TEMPERATURE'),\n",
              "            (          'FUSE BOX 2', 'INTERNAL TEMPERATURE'),\n",
              "            (          'FUSE BOX 3', 'INTERNAL TEMPERATURE'),\n",
              "            (          'FUSE BOX 4', 'INTERNAL TEMPERATURE'),\n",
              "            ('Unnamed: 0_level_0_y',   'Unnamed: 0_level_1'),\n",
              "            (          'INVERTER 1', 'AC POWER (KW) Actual'),\n",
              "            (          'INVERTER 2', 'AC POWER (KW) Actual'),\n",
              "            (          'INVERTER 3', 'AC POWER (KW) Actual'),\n",
              "            (          'INVERTER 4', 'AC POWER (KW) Actual'),\n",
              "            (          'INVERTER 1', 'DC POWER (KW) Actual'),\n",
              "            (          'INVERTER 2', 'DC POWER (KW) Actual'),\n",
              "            (          'INVERTER 3', 'DC POWER (KW) Actual'),\n",
              "            (          'INVERTER 4', 'DC POWER (KW) Actual')],\n",
              "           )"
            ]
          },
          "metadata": {
            "tags": []
          },
          "execution_count": 402
        }
      ]
    },
    {
      "cell_type": "code",
      "metadata": {
        "id": "WgAXkit6GxxC",
        "colab_type": "code",
        "colab": {}
      },
      "source": [
        "final_data=data.drop(data.columns[[5]], axis = 1)"
      ],
      "execution_count": 0,
      "outputs": []
    },
    {
      "cell_type": "code",
      "metadata": {
        "id": "NSwh3v5YGyFw",
        "colab_type": "code",
        "colab": {}
      },
      "source": [
        "# we have final data of block 1 only, for fuse report and inverter report.The values extracted are :\n",
        "# 1. AC ACTUAL\n",
        "# 2. DC ACTUAL\n",
        "# 3. INTERNAL TEMPARATURE\n",
        "# 4. DATES\n",
        "# 5. Now we have final data after merging all these. Let's find other things like day, month, hour, minutes"
      ],
      "execution_count": 0,
      "outputs": []
    },
    {
      "cell_type": "code",
      "metadata": {
        "id": "q_5BHU9qILfx",
        "colab_type": "code",
        "outputId": "b3081354-00b4-4277-c7f7-0a4f99124fc3",
        "colab": {
          "base_uri": "https://localhost:8080/",
          "height": 402
        }
      },
      "source": [
        "final_data.head()"
      ],
      "execution_count": 405,
      "outputs": [
        {
          "output_type": "execute_result",
          "data": {
            "text/html": [
              "<div>\n",
              "<style scoped>\n",
              "    .dataframe tbody tr th:only-of-type {\n",
              "        vertical-align: middle;\n",
              "    }\n",
              "\n",
              "    .dataframe tbody tr th {\n",
              "        vertical-align: top;\n",
              "    }\n",
              "\n",
              "    .dataframe thead tr th {\n",
              "        text-align: left;\n",
              "    }\n",
              "\n",
              "    .dataframe thead tr:last-of-type th {\n",
              "        text-align: right;\n",
              "    }\n",
              "</style>\n",
              "<table border=\"1\" class=\"dataframe\">\n",
              "  <thead>\n",
              "    <tr>\n",
              "      <th></th>\n",
              "      <th>Unnamed: 0_level_0_x</th>\n",
              "      <th>FUSE BOX 1</th>\n",
              "      <th>FUSE BOX 2</th>\n",
              "      <th>FUSE BOX 3</th>\n",
              "      <th>FUSE BOX 4</th>\n",
              "      <th>INVERTER 1</th>\n",
              "      <th>INVERTER 2</th>\n",
              "      <th>INVERTER 3</th>\n",
              "      <th>INVERTER 4</th>\n",
              "      <th>INVERTER 1</th>\n",
              "      <th>INVERTER 2</th>\n",
              "      <th>INVERTER 3</th>\n",
              "      <th>INVERTER 4</th>\n",
              "    </tr>\n",
              "    <tr>\n",
              "      <th></th>\n",
              "      <th>Unnamed: 0_level_1</th>\n",
              "      <th>INTERNAL TEMPERATURE</th>\n",
              "      <th>INTERNAL TEMPERATURE</th>\n",
              "      <th>INTERNAL TEMPERATURE</th>\n",
              "      <th>INTERNAL TEMPERATURE</th>\n",
              "      <th>AC POWER (KW) Actual</th>\n",
              "      <th>AC POWER (KW) Actual</th>\n",
              "      <th>AC POWER (KW) Actual</th>\n",
              "      <th>AC POWER (KW) Actual</th>\n",
              "      <th>DC POWER (KW) Actual</th>\n",
              "      <th>DC POWER (KW) Actual</th>\n",
              "      <th>DC POWER (KW) Actual</th>\n",
              "      <th>DC POWER (KW) Actual</th>\n",
              "    </tr>\n",
              "    <tr>\n",
              "      <th>sr.no.</th>\n",
              "      <th></th>\n",
              "      <th></th>\n",
              "      <th></th>\n",
              "      <th></th>\n",
              "      <th></th>\n",
              "      <th></th>\n",
              "      <th></th>\n",
              "      <th></th>\n",
              "      <th></th>\n",
              "      <th></th>\n",
              "      <th></th>\n",
              "      <th></th>\n",
              "      <th></th>\n",
              "    </tr>\n",
              "  </thead>\n",
              "  <tbody>\n",
              "    <tr>\n",
              "      <th>0</th>\n",
              "      <td>2020-04-01 00:00:00.012</td>\n",
              "      <td>30.275087</td>\n",
              "      <td>30.188070</td>\n",
              "      <td>29.278463</td>\n",
              "      <td>29.452501</td>\n",
              "      <td>0</td>\n",
              "      <td>0</td>\n",
              "      <td>0</td>\n",
              "      <td>0</td>\n",
              "      <td>0</td>\n",
              "      <td>0</td>\n",
              "      <td>0</td>\n",
              "      <td>0</td>\n",
              "    </tr>\n",
              "    <tr>\n",
              "      <th>1</th>\n",
              "      <td>2020-04-01 00:01:00.015</td>\n",
              "      <td>30.273602</td>\n",
              "      <td>30.176170</td>\n",
              "      <td>29.256151</td>\n",
              "      <td>29.439114</td>\n",
              "      <td>0</td>\n",
              "      <td>0</td>\n",
              "      <td>0</td>\n",
              "      <td>0</td>\n",
              "      <td>0</td>\n",
              "      <td>0</td>\n",
              "      <td>0</td>\n",
              "      <td>0</td>\n",
              "    </tr>\n",
              "    <tr>\n",
              "      <th>2</th>\n",
              "      <td>2020-04-01 00:02:00.012</td>\n",
              "      <td>30.240875</td>\n",
              "      <td>30.132288</td>\n",
              "      <td>29.233095</td>\n",
              "      <td>29.417545</td>\n",
              "      <td>0</td>\n",
              "      <td>0</td>\n",
              "      <td>0</td>\n",
              "      <td>0</td>\n",
              "      <td>0</td>\n",
              "      <td>0</td>\n",
              "      <td>0</td>\n",
              "      <td>0</td>\n",
              "    </tr>\n",
              "    <tr>\n",
              "      <th>3</th>\n",
              "      <td>2020-04-01 00:03:00.014</td>\n",
              "      <td>30.234182</td>\n",
              "      <td>30.142700</td>\n",
              "      <td>29.216732</td>\n",
              "      <td>29.402670</td>\n",
              "      <td>0</td>\n",
              "      <td>0</td>\n",
              "      <td>0</td>\n",
              "      <td>0</td>\n",
              "      <td>0</td>\n",
              "      <td>0</td>\n",
              "      <td>0</td>\n",
              "      <td>0</td>\n",
              "    </tr>\n",
              "    <tr>\n",
              "      <th>4</th>\n",
              "      <td>2020-04-01 00:04:00.015</td>\n",
              "      <td>30.205919</td>\n",
              "      <td>30.081713</td>\n",
              "      <td>29.193676</td>\n",
              "      <td>29.387794</td>\n",
              "      <td>0</td>\n",
              "      <td>0</td>\n",
              "      <td>0</td>\n",
              "      <td>0</td>\n",
              "      <td>0</td>\n",
              "      <td>0</td>\n",
              "      <td>0</td>\n",
              "      <td>0</td>\n",
              "    </tr>\n",
              "  </tbody>\n",
              "</table>\n",
              "</div>"
            ],
            "text/plain": [
              "          Unnamed: 0_level_0_x  ...           INVERTER 4\n",
              "            Unnamed: 0_level_1  ... DC POWER (KW) Actual\n",
              "sr.no.                          ...                     \n",
              "0      2020-04-01 00:00:00.012  ...                    0\n",
              "1      2020-04-01 00:01:00.015  ...                    0\n",
              "2      2020-04-01 00:02:00.012  ...                    0\n",
              "3      2020-04-01 00:03:00.014  ...                    0\n",
              "4      2020-04-01 00:04:00.015  ...                    0\n",
              "\n",
              "[5 rows x 13 columns]"
            ]
          },
          "metadata": {
            "tags": []
          },
          "execution_count": 405
        }
      ]
    },
    {
      "cell_type": "code",
      "metadata": {
        "id": "uEtlGrVhLLl8",
        "colab_type": "code",
        "outputId": "3a507df9-8573-424d-89b5-5312b1c9c2d5",
        "colab": {
          "base_uri": "https://localhost:8080/",
          "height": 255
        }
      },
      "source": [
        "final_data.columns"
      ],
      "execution_count": 406,
      "outputs": [
        {
          "output_type": "execute_result",
          "data": {
            "text/plain": [
              "MultiIndex([('Unnamed: 0_level_0_x',   'Unnamed: 0_level_1'),\n",
              "            (          'FUSE BOX 1', 'INTERNAL TEMPERATURE'),\n",
              "            (          'FUSE BOX 2', 'INTERNAL TEMPERATURE'),\n",
              "            (          'FUSE BOX 3', 'INTERNAL TEMPERATURE'),\n",
              "            (          'FUSE BOX 4', 'INTERNAL TEMPERATURE'),\n",
              "            (          'INVERTER 1', 'AC POWER (KW) Actual'),\n",
              "            (          'INVERTER 2', 'AC POWER (KW) Actual'),\n",
              "            (          'INVERTER 3', 'AC POWER (KW) Actual'),\n",
              "            (          'INVERTER 4', 'AC POWER (KW) Actual'),\n",
              "            (          'INVERTER 1', 'DC POWER (KW) Actual'),\n",
              "            (          'INVERTER 2', 'DC POWER (KW) Actual'),\n",
              "            (          'INVERTER 3', 'DC POWER (KW) Actual'),\n",
              "            (          'INVERTER 4', 'DC POWER (KW) Actual')],\n",
              "           )"
            ]
          },
          "metadata": {
            "tags": []
          },
          "execution_count": 406
        }
      ]
    },
    {
      "cell_type": "code",
      "metadata": {
        "id": "Lq2esj5eILqO",
        "colab_type": "code",
        "colab": {}
      },
      "source": [
        "# import datetime class from datetime module\n",
        "from datetime import datetime "
      ],
      "execution_count": 0,
      "outputs": []
    },
    {
      "cell_type": "code",
      "metadata": {
        "id": "MaR19a7-M0xJ",
        "colab_type": "code",
        "colab": {}
      },
      "source": [
        "first=final_data['Unnamed: 0_level_0_x', 'Unnamed: 0_level_1']"
      ],
      "execution_count": 0,
      "outputs": []
    },
    {
      "cell_type": "code",
      "metadata": {
        "id": "6v6T6GmFILxW",
        "colab_type": "code",
        "outputId": "badd5f17-5546-4699-c00e-3e744d4a5a36",
        "colab": {
          "base_uri": "https://localhost:8080/",
          "height": 238
        }
      },
      "source": [
        "final_data['day'] = first.dt.day\n",
        "final_data['day']"
      ],
      "execution_count": 409,
      "outputs": [
        {
          "output_type": "execute_result",
          "data": {
            "text/plain": [
              "sr.no.\n",
              "0       1\n",
              "1       1\n",
              "2       1\n",
              "3       1\n",
              "4       1\n",
              "       ..\n",
              "1434    1\n",
              "1435    1\n",
              "1436    1\n",
              "1437    1\n",
              "1438    1\n",
              "Name: day, Length: 1439, dtype: int64"
            ]
          },
          "metadata": {
            "tags": []
          },
          "execution_count": 409
        }
      ]
    },
    {
      "cell_type": "code",
      "metadata": {
        "id": "jPniL2R4IMEz",
        "colab_type": "code",
        "outputId": "3e274258-7d81-4f55-d3df-b5f3fe8f8db0",
        "colab": {
          "base_uri": "https://localhost:8080/",
          "height": 238
        }
      },
      "source": [
        "final_data['month'] = first.dt.month\n",
        "final_data['month']"
      ],
      "execution_count": 410,
      "outputs": [
        {
          "output_type": "execute_result",
          "data": {
            "text/plain": [
              "sr.no.\n",
              "0       4\n",
              "1       4\n",
              "2       4\n",
              "3       4\n",
              "4       4\n",
              "       ..\n",
              "1434    4\n",
              "1435    4\n",
              "1436    4\n",
              "1437    4\n",
              "1438    4\n",
              "Name: month, Length: 1439, dtype: int64"
            ]
          },
          "metadata": {
            "tags": []
          },
          "execution_count": 410
        }
      ]
    },
    {
      "cell_type": "code",
      "metadata": {
        "id": "pMPwXhz7IMUm",
        "colab_type": "code",
        "outputId": "8778cf16-1179-4f68-9327-6bc21d9b446c",
        "colab": {
          "base_uri": "https://localhost:8080/",
          "height": 238
        }
      },
      "source": [
        "final_data['week of year'] = first.dt.week\n",
        "final_data['week of year']"
      ],
      "execution_count": 411,
      "outputs": [
        {
          "output_type": "execute_result",
          "data": {
            "text/plain": [
              "sr.no.\n",
              "0       14\n",
              "1       14\n",
              "2       14\n",
              "3       14\n",
              "4       14\n",
              "        ..\n",
              "1434    14\n",
              "1435    14\n",
              "1436    14\n",
              "1437    14\n",
              "1438    14\n",
              "Name: week of year, Length: 1439, dtype: int64"
            ]
          },
          "metadata": {
            "tags": []
          },
          "execution_count": 411
        }
      ]
    },
    {
      "cell_type": "code",
      "metadata": {
        "id": "ikzwM5ZpIMRu",
        "colab_type": "code",
        "outputId": "5db842a7-557e-4a1f-fa04-e1a42b8bbf33",
        "colab": {
          "base_uri": "https://localhost:8080/",
          "height": 238
        }
      },
      "source": [
        "final_data['year'] = first.dt.year\n",
        "final_data['year']"
      ],
      "execution_count": 412,
      "outputs": [
        {
          "output_type": "execute_result",
          "data": {
            "text/plain": [
              "sr.no.\n",
              "0       2020\n",
              "1       2020\n",
              "2       2020\n",
              "3       2020\n",
              "4       2020\n",
              "        ... \n",
              "1434    2020\n",
              "1435    2020\n",
              "1436    2020\n",
              "1437    2020\n",
              "1438    2020\n",
              "Name: year, Length: 1439, dtype: int64"
            ]
          },
          "metadata": {
            "tags": []
          },
          "execution_count": 412
        }
      ]
    },
    {
      "cell_type": "code",
      "metadata": {
        "id": "_cJbnRHRIL8c",
        "colab_type": "code",
        "outputId": "320a1da8-417f-4758-8e21-313eefd9e699",
        "colab": {
          "base_uri": "https://localhost:8080/",
          "height": 238
        }
      },
      "source": [
        "final_data['minute'] = first.dt.minute\n",
        "final_data['minute']   # like wise we can extract time in any format like hour or second."
      ],
      "execution_count": 413,
      "outputs": [
        {
          "output_type": "execute_result",
          "data": {
            "text/plain": [
              "sr.no.\n",
              "0        0\n",
              "1        1\n",
              "2        2\n",
              "3        3\n",
              "4        4\n",
              "        ..\n",
              "1434    54\n",
              "1435    55\n",
              "1436    56\n",
              "1437    57\n",
              "1438    58\n",
              "Name: minute, Length: 1439, dtype: int64"
            ]
          },
          "metadata": {
            "tags": []
          },
          "execution_count": 413
        }
      ]
    },
    {
      "cell_type": "code",
      "metadata": {
        "id": "pI6pd96mOCAz",
        "colab_type": "code",
        "outputId": "db14a020-075b-4b01-e4cf-72a08e14858e",
        "colab": {
          "base_uri": "https://localhost:8080/",
          "height": 34
        }
      },
      "source": [
        "final_data.shape"
      ],
      "execution_count": 414,
      "outputs": [
        {
          "output_type": "execute_result",
          "data": {
            "text/plain": [
              "(1439, 18)"
            ]
          },
          "metadata": {
            "tags": []
          },
          "execution_count": 414
        }
      ]
    },
    {
      "cell_type": "code",
      "metadata": {
        "id": "1wN6q4jGOBzh",
        "colab_type": "code",
        "outputId": "4326d997-79ed-4881-9b75-8893783a1b0b",
        "colab": {
          "base_uri": "https://localhost:8080/",
          "height": 340
        }
      },
      "source": [
        "final_data.columns"
      ],
      "execution_count": 415,
      "outputs": [
        {
          "output_type": "execute_result",
          "data": {
            "text/plain": [
              "MultiIndex([('Unnamed: 0_level_0_x',   'Unnamed: 0_level_1'),\n",
              "            (          'FUSE BOX 1', 'INTERNAL TEMPERATURE'),\n",
              "            (          'FUSE BOX 2', 'INTERNAL TEMPERATURE'),\n",
              "            (          'FUSE BOX 3', 'INTERNAL TEMPERATURE'),\n",
              "            (          'FUSE BOX 4', 'INTERNAL TEMPERATURE'),\n",
              "            (          'INVERTER 1', 'AC POWER (KW) Actual'),\n",
              "            (          'INVERTER 2', 'AC POWER (KW) Actual'),\n",
              "            (          'INVERTER 3', 'AC POWER (KW) Actual'),\n",
              "            (          'INVERTER 4', 'AC POWER (KW) Actual'),\n",
              "            (          'INVERTER 1', 'DC POWER (KW) Actual'),\n",
              "            (          'INVERTER 2', 'DC POWER (KW) Actual'),\n",
              "            (          'INVERTER 3', 'DC POWER (KW) Actual'),\n",
              "            (          'INVERTER 4', 'DC POWER (KW) Actual'),\n",
              "            (                 'day',                     ''),\n",
              "            (               'month',                     ''),\n",
              "            (        'week of year',                     ''),\n",
              "            (                'year',                     ''),\n",
              "            (              'minute',                     '')],\n",
              "           )"
            ]
          },
          "metadata": {
            "tags": []
          },
          "execution_count": 415
        }
      ]
    },
    {
      "cell_type": "code",
      "metadata": {
        "id": "cZujUkdVOBvP",
        "colab_type": "code",
        "colab": {
          "base_uri": "https://localhost:8080/",
          "height": 34
        },
        "outputId": "cfe26414-b71c-4e49-d149-6ac62cb0c0f8"
      },
      "source": [
        "final_data.columns.nlevels  # levels in columns"
      ],
      "execution_count": 416,
      "outputs": [
        {
          "output_type": "execute_result",
          "data": {
            "text/plain": [
              "2"
            ]
          },
          "metadata": {
            "tags": []
          },
          "execution_count": 416
        }
      ]
    },
    {
      "cell_type": "code",
      "metadata": {
        "id": "7GhP_tGLILbD",
        "colab_type": "code",
        "colab": {
          "base_uri": "https://localhost:8080/",
          "height": 34
        },
        "outputId": "2754b638-697c-4ab0-811e-206aa967e6fe"
      },
      "source": [
        "final_data.index.nlevels  # levels in index"
      ],
      "execution_count": 417,
      "outputs": [
        {
          "output_type": "execute_result",
          "data": {
            "text/plain": [
              "1"
            ]
          },
          "metadata": {
            "tags": []
          },
          "execution_count": 417
        }
      ]
    },
    {
      "cell_type": "code",
      "metadata": {
        "id": "kNZauP9WGyTq",
        "colab_type": "code",
        "colab": {
          "base_uri": "https://localhost:8080/",
          "height": 439
        },
        "outputId": "4ce1e01b-4625-484d-c4ba-0af5a59775ff"
      },
      "source": [
        "final_data.head()"
      ],
      "execution_count": 418,
      "outputs": [
        {
          "output_type": "execute_result",
          "data": {
            "text/html": [
              "<div>\n",
              "<style scoped>\n",
              "    .dataframe tbody tr th:only-of-type {\n",
              "        vertical-align: middle;\n",
              "    }\n",
              "\n",
              "    .dataframe tbody tr th {\n",
              "        vertical-align: top;\n",
              "    }\n",
              "\n",
              "    .dataframe thead tr th {\n",
              "        text-align: left;\n",
              "    }\n",
              "\n",
              "    .dataframe thead tr:last-of-type th {\n",
              "        text-align: right;\n",
              "    }\n",
              "</style>\n",
              "<table border=\"1\" class=\"dataframe\">\n",
              "  <thead>\n",
              "    <tr>\n",
              "      <th></th>\n",
              "      <th>Unnamed: 0_level_0_x</th>\n",
              "      <th>FUSE BOX 1</th>\n",
              "      <th>FUSE BOX 2</th>\n",
              "      <th>FUSE BOX 3</th>\n",
              "      <th>FUSE BOX 4</th>\n",
              "      <th>INVERTER 1</th>\n",
              "      <th>INVERTER 2</th>\n",
              "      <th>INVERTER 3</th>\n",
              "      <th>INVERTER 4</th>\n",
              "      <th>INVERTER 1</th>\n",
              "      <th>INVERTER 2</th>\n",
              "      <th>INVERTER 3</th>\n",
              "      <th>INVERTER 4</th>\n",
              "      <th>day</th>\n",
              "      <th>month</th>\n",
              "      <th>week of year</th>\n",
              "      <th>year</th>\n",
              "      <th>minute</th>\n",
              "    </tr>\n",
              "    <tr>\n",
              "      <th></th>\n",
              "      <th>Unnamed: 0_level_1</th>\n",
              "      <th>INTERNAL TEMPERATURE</th>\n",
              "      <th>INTERNAL TEMPERATURE</th>\n",
              "      <th>INTERNAL TEMPERATURE</th>\n",
              "      <th>INTERNAL TEMPERATURE</th>\n",
              "      <th>AC POWER (KW) Actual</th>\n",
              "      <th>AC POWER (KW) Actual</th>\n",
              "      <th>AC POWER (KW) Actual</th>\n",
              "      <th>AC POWER (KW) Actual</th>\n",
              "      <th>DC POWER (KW) Actual</th>\n",
              "      <th>DC POWER (KW) Actual</th>\n",
              "      <th>DC POWER (KW) Actual</th>\n",
              "      <th>DC POWER (KW) Actual</th>\n",
              "      <th></th>\n",
              "      <th></th>\n",
              "      <th></th>\n",
              "      <th></th>\n",
              "      <th></th>\n",
              "    </tr>\n",
              "    <tr>\n",
              "      <th>sr.no.</th>\n",
              "      <th></th>\n",
              "      <th></th>\n",
              "      <th></th>\n",
              "      <th></th>\n",
              "      <th></th>\n",
              "      <th></th>\n",
              "      <th></th>\n",
              "      <th></th>\n",
              "      <th></th>\n",
              "      <th></th>\n",
              "      <th></th>\n",
              "      <th></th>\n",
              "      <th></th>\n",
              "      <th></th>\n",
              "      <th></th>\n",
              "      <th></th>\n",
              "      <th></th>\n",
              "      <th></th>\n",
              "    </tr>\n",
              "  </thead>\n",
              "  <tbody>\n",
              "    <tr>\n",
              "      <th>0</th>\n",
              "      <td>2020-04-01 00:00:00.012</td>\n",
              "      <td>30.275087</td>\n",
              "      <td>30.188070</td>\n",
              "      <td>29.278463</td>\n",
              "      <td>29.452501</td>\n",
              "      <td>0</td>\n",
              "      <td>0</td>\n",
              "      <td>0</td>\n",
              "      <td>0</td>\n",
              "      <td>0</td>\n",
              "      <td>0</td>\n",
              "      <td>0</td>\n",
              "      <td>0</td>\n",
              "      <td>1</td>\n",
              "      <td>4</td>\n",
              "      <td>14</td>\n",
              "      <td>2020</td>\n",
              "      <td>0</td>\n",
              "    </tr>\n",
              "    <tr>\n",
              "      <th>1</th>\n",
              "      <td>2020-04-01 00:01:00.015</td>\n",
              "      <td>30.273602</td>\n",
              "      <td>30.176170</td>\n",
              "      <td>29.256151</td>\n",
              "      <td>29.439114</td>\n",
              "      <td>0</td>\n",
              "      <td>0</td>\n",
              "      <td>0</td>\n",
              "      <td>0</td>\n",
              "      <td>0</td>\n",
              "      <td>0</td>\n",
              "      <td>0</td>\n",
              "      <td>0</td>\n",
              "      <td>1</td>\n",
              "      <td>4</td>\n",
              "      <td>14</td>\n",
              "      <td>2020</td>\n",
              "      <td>1</td>\n",
              "    </tr>\n",
              "    <tr>\n",
              "      <th>2</th>\n",
              "      <td>2020-04-01 00:02:00.012</td>\n",
              "      <td>30.240875</td>\n",
              "      <td>30.132288</td>\n",
              "      <td>29.233095</td>\n",
              "      <td>29.417545</td>\n",
              "      <td>0</td>\n",
              "      <td>0</td>\n",
              "      <td>0</td>\n",
              "      <td>0</td>\n",
              "      <td>0</td>\n",
              "      <td>0</td>\n",
              "      <td>0</td>\n",
              "      <td>0</td>\n",
              "      <td>1</td>\n",
              "      <td>4</td>\n",
              "      <td>14</td>\n",
              "      <td>2020</td>\n",
              "      <td>2</td>\n",
              "    </tr>\n",
              "    <tr>\n",
              "      <th>3</th>\n",
              "      <td>2020-04-01 00:03:00.014</td>\n",
              "      <td>30.234182</td>\n",
              "      <td>30.142700</td>\n",
              "      <td>29.216732</td>\n",
              "      <td>29.402670</td>\n",
              "      <td>0</td>\n",
              "      <td>0</td>\n",
              "      <td>0</td>\n",
              "      <td>0</td>\n",
              "      <td>0</td>\n",
              "      <td>0</td>\n",
              "      <td>0</td>\n",
              "      <td>0</td>\n",
              "      <td>1</td>\n",
              "      <td>4</td>\n",
              "      <td>14</td>\n",
              "      <td>2020</td>\n",
              "      <td>3</td>\n",
              "    </tr>\n",
              "    <tr>\n",
              "      <th>4</th>\n",
              "      <td>2020-04-01 00:04:00.015</td>\n",
              "      <td>30.205919</td>\n",
              "      <td>30.081713</td>\n",
              "      <td>29.193676</td>\n",
              "      <td>29.387794</td>\n",
              "      <td>0</td>\n",
              "      <td>0</td>\n",
              "      <td>0</td>\n",
              "      <td>0</td>\n",
              "      <td>0</td>\n",
              "      <td>0</td>\n",
              "      <td>0</td>\n",
              "      <td>0</td>\n",
              "      <td>1</td>\n",
              "      <td>4</td>\n",
              "      <td>14</td>\n",
              "      <td>2020</td>\n",
              "      <td>4</td>\n",
              "    </tr>\n",
              "  </tbody>\n",
              "</table>\n",
              "</div>"
            ],
            "text/plain": [
              "          Unnamed: 0_level_0_x           FUSE BOX 1  ...  year minute\n",
              "            Unnamed: 0_level_1 INTERNAL TEMPERATURE  ...             \n",
              "sr.no.                                               ...             \n",
              "0      2020-04-01 00:00:00.012            30.275087  ...  2020      0\n",
              "1      2020-04-01 00:01:00.015            30.273602  ...  2020      1\n",
              "2      2020-04-01 00:02:00.012            30.240875  ...  2020      2\n",
              "3      2020-04-01 00:03:00.014            30.234182  ...  2020      3\n",
              "4      2020-04-01 00:04:00.015            30.205919  ...  2020      4\n",
              "\n",
              "[5 rows x 18 columns]"
            ]
          },
          "metadata": {
            "tags": []
          },
          "execution_count": 418
        }
      ]
    },
    {
      "cell_type": "code",
      "metadata": {
        "id": "43WcvvVHGyNH",
        "colab_type": "code",
        "colab": {}
      },
      "source": [
        ""
      ],
      "execution_count": 0,
      "outputs": []
    },
    {
      "cell_type": "code",
      "metadata": {
        "id": "M7ws3oX4Gx_A",
        "colab_type": "code",
        "colab": {}
      },
      "source": [
        ""
      ],
      "execution_count": 0,
      "outputs": []
    },
    {
      "cell_type": "code",
      "metadata": {
        "id": "CAVOoM8tGx5A",
        "colab_type": "code",
        "colab": {}
      },
      "source": [
        ""
      ],
      "execution_count": 0,
      "outputs": []
    },
    {
      "cell_type": "code",
      "metadata": {
        "id": "CxNAIAvWGxhZ",
        "colab_type": "code",
        "colab": {}
      },
      "source": [
        ""
      ],
      "execution_count": 0,
      "outputs": []
    },
    {
      "cell_type": "code",
      "metadata": {
        "id": "aXuI9GL-GxcL",
        "colab_type": "code",
        "colab": {}
      },
      "source": [
        ""
      ],
      "execution_count": 0,
      "outputs": []
    },
    {
      "cell_type": "code",
      "metadata": {
        "id": "keMw4a4dEn_a",
        "colab_type": "code",
        "colab": {}
      },
      "source": [
        ""
      ],
      "execution_count": 0,
      "outputs": []
    },
    {
      "cell_type": "code",
      "metadata": {
        "id": "3uUqASqSEnpH",
        "colab_type": "code",
        "colab": {}
      },
      "source": [
        ""
      ],
      "execution_count": 0,
      "outputs": []
    }
  ]
}